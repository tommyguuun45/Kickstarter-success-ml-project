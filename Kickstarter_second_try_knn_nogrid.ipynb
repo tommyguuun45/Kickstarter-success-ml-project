{
 "cells": [
  {
   "cell_type": "code",
   "execution_count": 7,
   "metadata": {},
   "outputs": [],
   "source": [
    "import seaborn as sns\n",
    "import pandas as pd\n",
    "import numpy as np\n",
    "import matplotlib.pyplot as plt\n",
    "from matplotlib import pyplot\n",
    "from xgboost import plot_importance\n",
    "import ast\n",
    "\n",
    "\n",
    "from sklearn.model_selection import train_test_split\n",
    "from sklearn.metrics import classification_report, confusion_matrix\n",
    "from sklearn.model_selection import GridSearchCV\n",
    "from sklearn.ensemble import VotingClassifier\n",
    "from sklearn.preprocessing import StandardScaler\n",
    "\n",
    "import warnings\n",
    "warnings.filterwarnings('ignore')\n",
    "\n",
    "RSEED = 42\n"
   ]
  },
  {
   "cell_type": "code",
   "execution_count": 8,
   "metadata": {},
   "outputs": [
    {
     "name": "stdout",
     "output_type": "stream",
     "text": [
      "aiohttp==3.8.3\n",
      "aiosignal==1.3.1\n",
      "altair==4.1.0\n",
      "anyio==3.6.2\n",
      "appnope==0.1.3\n",
      "argon2-cffi==21.3.0\n",
      "argon2-cffi-bindings==21.2.0\n",
      "asttokens==2.1.0\n",
      "async-timeout==4.0.2\n",
      "attrs==22.1.0\n",
      "Babel==2.11.0\n",
      "backcall==0.2.0\n",
      "beautifulsoup4==4.11.1\n",
      "bleach==5.0.1\n",
      "certifi==2022.9.24\n",
      "cffi==1.15.1\n",
      "charset-normalizer==2.1.1\n",
      "click==8.1.3\n",
      "cycler==0.11.0\n",
      "dash==2.7.0\n",
      "dash-core-components==2.0.0\n",
      "dash-html-components==2.0.0\n",
      "dash-table==5.0.0\n",
      "debugpy==1.6.3\n",
      "decorator==5.1.1\n",
      "defusedxml==0.7.1\n",
      "entrypoints==0.4\n",
      "executing==1.2.0\n",
      "fastjsonschema==2.16.2\n",
      "Flask==2.2.2\n",
      "fonttools==4.38.0\n",
      "frozenlist==1.3.3\n",
      "idna==3.4\n",
      "importlib-metadata==5.0.0\n",
      "iniconfig==1.1.1\n",
      "ipykernel==6.17.1\n",
      "ipython==8.6.0\n",
      "ipython-genutils==0.2.0\n",
      "ipywidgets==7.6.5\n",
      "itsdangerous==2.1.2\n",
      "jedi==0.18.2\n",
      "Jinja2==3.1.2\n",
      "joblib==1.2.0\n",
      "json5==0.9.10\n",
      "jsonschema==4.17.1\n",
      "jupyter-server==1.23.3\n",
      "jupyter-server-proxy==3.2.2\n",
      "jupyter_client==7.4.7\n",
      "jupyter_core==5.0.0\n",
      "jupyterlab==3.2.5\n",
      "jupyterlab-dash==0.1.0a3\n",
      "jupyterlab-pygments==0.2.2\n",
      "jupyterlab-widgets==3.0.3\n",
      "jupyterlab_server==2.16.3\n",
      "kiwisolver==1.4.4\n",
      "MarkupSafe==2.1.1\n",
      "matplotlib==3.5.1\n",
      "matplotlib-inline==0.1.6\n",
      "mistune==2.0.4\n",
      "multidict==6.0.2\n",
      "nbclassic==0.4.8\n",
      "nbclient==0.7.0\n",
      "nbconvert==7.2.5\n",
      "nbformat==5.7.0\n",
      "nest-asyncio==1.5.6\n",
      "notebook==6.5.2\n",
      "notebook_shim==0.2.2\n",
      "numpy==1.22.0\n",
      "packaging==21.3\n",
      "pandas==1.3.5\n",
      "pandocfilters==1.5.0\n",
      "parso==0.8.3\n",
      "patsy==0.5.3\n",
      "pexpect==4.8.0\n",
      "pickleshare==0.7.5\n",
      "Pillow==9.3.0\n",
      "platformdirs==2.5.4\n",
      "plotly==5.11.0\n",
      "pluggy==1.0.0\n",
      "prometheus-client==0.15.0\n",
      "prompt-toolkit==3.0.33\n",
      "psutil==5.9.4\n",
      "ptyprocess==0.7.0\n",
      "pure-eval==0.2.2\n",
      "py==1.11.0\n",
      "pycparser==2.21\n",
      "Pygments==2.13.0\n",
      "pyparsing==3.0.9\n",
      "pyrsistent==0.19.2\n",
      "pytest==7.0.1\n",
      "python-dateutil==2.8.2\n",
      "pytz==2022.6\n",
      "pyzmq==24.0.1\n",
      "requests==2.28.1\n",
      "scikit-learn==1.0.2\n",
      "scipy==1.9.3\n",
      "seaborn==0.11.2\n",
      "Send2Trash==1.8.0\n",
      "simpervisor==0.4\n",
      "six==1.16.0\n",
      "sniffio==1.3.0\n",
      "soupsieve==2.3.2.post1\n",
      "stack-data==0.6.1\n",
      "statsmodels==0.13.1\n",
      "tenacity==8.1.0\n",
      "terminado==0.17.0\n",
      "threadpoolctl==3.1.0\n",
      "tinycss2==1.2.1\n",
      "tomli==2.0.1\n",
      "toolz==0.12.0\n",
      "tornado==6.2\n",
      "traitlets==5.5.0\n",
      "urllib3==1.26.13\n",
      "wcwidth==0.2.5\n",
      "webencodings==0.5.1\n",
      "websocket-client==1.4.2\n",
      "Werkzeug==2.2.2\n",
      "widgetsnbextension==3.5.2\n",
      "xgboost==1.7.1\n",
      "yarl==1.8.1\n",
      "zipp==3.10.0\n",
      "Note: you may need to restart the kernel to use updated packages.\n"
     ]
    }
   ],
   "source": [
    "pip freeze"
   ]
  },
  {
   "cell_type": "code",
   "execution_count": 9,
   "metadata": {},
   "outputs": [],
   "source": [
    "\n",
    "import glob\n",
    "import os\n",
    "\n",
    "path = r'data/data-2' # use your path\n",
    "all_files = glob.glob(os.path.join(path , \"*.csv\"))\n",
    "\n",
    "li = []\n",
    "\n",
    "for filename in all_files:\n",
    "    df = pd.read_csv(filename, index_col=None, header=0)\n",
    "    li.append(df)\n",
    "df = pd.concat(li, axis=0, ignore_index=True)\n"
   ]
  },
  {
   "cell_type": "markdown",
   "metadata": {},
   "source": [
    "## EDA"
   ]
  },
  {
   "cell_type": "markdown",
   "metadata": {},
   "source": [
    "## Description of the clomns"
   ]
  },
  {
   "cell_type": "markdown",
   "metadata": {},
   "source": [
    "# Columns \n",
    "'backers_count', \n",
    "'blurb', 'category', 'converted_pledged_amount',\n",
    "       'country', 'created_at', 'creator', 'currency', 'currency_symbol',\n",
    "       'currency_trailing_code', 'current_currency', 'deadline',\n",
    "       'disable_communication', 'friends', 'fx_rate', 'goal', 'id',\n",
    "       'is_backing', 'is_starrable', 'is_starred', 'launched_at', 'location',\n",
    "       'name', 'permissions', 'photo', 'pledged', 'profile', 'slug',\n",
    "       'source_url', 'spotlight', 'staff_pick', 'state', 'state_changed_at',\n",
    "       'static_usd_rate', 'urls', 'usd_pledged', 'usd_type'],\n",
    "      dtype='object')"
   ]
  },
  {
   "cell_type": "code",
   "execution_count": 10,
   "metadata": {},
   "outputs": [
    {
     "data": {
      "text/plain": [
       "Index(['backers_count', 'blurb', 'category', 'converted_pledged_amount',\n",
       "       'country', 'created_at', 'creator', 'currency', 'currency_symbol',\n",
       "       'currency_trailing_code', 'current_currency', 'deadline',\n",
       "       'disable_communication', 'friends', 'fx_rate', 'goal', 'id',\n",
       "       'is_backing', 'is_starrable', 'is_starred', 'launched_at', 'location',\n",
       "       'name', 'permissions', 'photo', 'pledged', 'profile', 'slug',\n",
       "       'source_url', 'spotlight', 'staff_pick', 'state', 'state_changed_at',\n",
       "       'static_usd_rate', 'urls', 'usd_pledged', 'usd_type'],\n",
       "      dtype='object')"
      ]
     },
     "execution_count": 10,
     "metadata": {},
     "output_type": "execute_result"
    }
   ],
   "source": [
    "df.columns"
   ]
  },
  {
   "cell_type": "code",
   "execution_count": 11,
   "metadata": {},
   "outputs": [
    {
     "data": {
      "text/html": [
       "<div>\n",
       "<style scoped>\n",
       "    .dataframe tbody tr th:only-of-type {\n",
       "        vertical-align: middle;\n",
       "    }\n",
       "\n",
       "    .dataframe tbody tr th {\n",
       "        vertical-align: top;\n",
       "    }\n",
       "\n",
       "    .dataframe thead th {\n",
       "        text-align: right;\n",
       "    }\n",
       "</style>\n",
       "<table border=\"1\" class=\"dataframe\">\n",
       "  <thead>\n",
       "    <tr style=\"text-align: right;\">\n",
       "      <th></th>\n",
       "      <th>backers_count</th>\n",
       "      <th>blurb</th>\n",
       "      <th>category</th>\n",
       "      <th>converted_pledged_amount</th>\n",
       "      <th>country</th>\n",
       "      <th>created_at</th>\n",
       "      <th>creator</th>\n",
       "      <th>currency</th>\n",
       "      <th>currency_symbol</th>\n",
       "      <th>currency_trailing_code</th>\n",
       "      <th>...</th>\n",
       "      <th>slug</th>\n",
       "      <th>source_url</th>\n",
       "      <th>spotlight</th>\n",
       "      <th>staff_pick</th>\n",
       "      <th>state</th>\n",
       "      <th>state_changed_at</th>\n",
       "      <th>static_usd_rate</th>\n",
       "      <th>urls</th>\n",
       "      <th>usd_pledged</th>\n",
       "      <th>usd_type</th>\n",
       "    </tr>\n",
       "  </thead>\n",
       "  <tbody>\n",
       "    <tr>\n",
       "      <th>0</th>\n",
       "      <td>315</td>\n",
       "      <td>Babalus Shoes</td>\n",
       "      <td>{\"id\":266,\"name\":\"Footwear\",\"slug\":\"fashion/fo...</td>\n",
       "      <td>28645</td>\n",
       "      <td>US</td>\n",
       "      <td>1541459205</td>\n",
       "      <td>{\"id\":2094277840,\"name\":\"Lucy Conroy\",\"slug\":\"...</td>\n",
       "      <td>USD</td>\n",
       "      <td>$</td>\n",
       "      <td>True</td>\n",
       "      <td>...</td>\n",
       "      <td>babalus-childrens-shoes</td>\n",
       "      <td>https://www.kickstarter.com/discover/categorie...</td>\n",
       "      <td>False</td>\n",
       "      <td>False</td>\n",
       "      <td>live</td>\n",
       "      <td>1548223375</td>\n",
       "      <td>1.000000</td>\n",
       "      <td>{\"web\":{\"project\":\"https://www.kickstarter.com...</td>\n",
       "      <td>28645.000000</td>\n",
       "      <td>international</td>\n",
       "    </tr>\n",
       "    <tr>\n",
       "      <th>1</th>\n",
       "      <td>47</td>\n",
       "      <td>A colorful Dia de los Muertos themed oracle de...</td>\n",
       "      <td>{\"id\":273,\"name\":\"Playing Cards\",\"slug\":\"games...</td>\n",
       "      <td>1950</td>\n",
       "      <td>US</td>\n",
       "      <td>1501684093</td>\n",
       "      <td>{\"id\":723886115,\"name\":\"Lisa Vollrath\",\"slug\":...</td>\n",
       "      <td>USD</td>\n",
       "      <td>$</td>\n",
       "      <td>True</td>\n",
       "      <td>...</td>\n",
       "      <td>the-ofrenda-oracle-deck</td>\n",
       "      <td>https://www.kickstarter.com/discover/categorie...</td>\n",
       "      <td>True</td>\n",
       "      <td>False</td>\n",
       "      <td>successful</td>\n",
       "      <td>1504976459</td>\n",
       "      <td>1.000000</td>\n",
       "      <td>{\"web\":{\"project\":\"https://www.kickstarter.com...</td>\n",
       "      <td>1950.000000</td>\n",
       "      <td>domestic</td>\n",
       "    </tr>\n",
       "    <tr>\n",
       "      <th>2</th>\n",
       "      <td>271</td>\n",
       "      <td>Electra's long awaited, eclectic Debut Pop/Roc...</td>\n",
       "      <td>{\"id\":43,\"name\":\"Rock\",\"slug\":\"music/rock\",\"po...</td>\n",
       "      <td>22404</td>\n",
       "      <td>US</td>\n",
       "      <td>1348987533</td>\n",
       "      <td>{\"id\":323849677,\"name\":\"Electra\",\"is_registere...</td>\n",
       "      <td>USD</td>\n",
       "      <td>$</td>\n",
       "      <td>True</td>\n",
       "      <td>...</td>\n",
       "      <td>record-electras-debut-album-pop-rock-classical</td>\n",
       "      <td>https://www.kickstarter.com/discover/categorie...</td>\n",
       "      <td>True</td>\n",
       "      <td>False</td>\n",
       "      <td>successful</td>\n",
       "      <td>1371013395</td>\n",
       "      <td>1.000000</td>\n",
       "      <td>{\"web\":{\"project\":\"https://www.kickstarter.com...</td>\n",
       "      <td>22404.000000</td>\n",
       "      <td>international</td>\n",
       "    </tr>\n",
       "    <tr>\n",
       "      <th>3</th>\n",
       "      <td>3</td>\n",
       "      <td>The Mist of Tribunal is a turn-based card game...</td>\n",
       "      <td>{\"id\":273,\"name\":\"Playing Cards\",\"slug\":\"games...</td>\n",
       "      <td>165</td>\n",
       "      <td>GB</td>\n",
       "      <td>1483780271</td>\n",
       "      <td>{\"id\":196281496,\"name\":\"Artur Ordijanc (delete...</td>\n",
       "      <td>GBP</td>\n",
       "      <td>£</td>\n",
       "      <td>False</td>\n",
       "      <td>...</td>\n",
       "      <td>the-mist-of-tribunal-a-card-game</td>\n",
       "      <td>https://www.kickstarter.com/discover/categorie...</td>\n",
       "      <td>False</td>\n",
       "      <td>False</td>\n",
       "      <td>failed</td>\n",
       "      <td>1489425776</td>\n",
       "      <td>1.216066</td>\n",
       "      <td>{\"web\":{\"project\":\"https://www.kickstarter.com...</td>\n",
       "      <td>165.384934</td>\n",
       "      <td>domestic</td>\n",
       "    </tr>\n",
       "    <tr>\n",
       "      <th>4</th>\n",
       "      <td>3</td>\n",
       "      <td>Livng with a brain impairment, what its like t...</td>\n",
       "      <td>{\"id\":48,\"name\":\"Nonfiction\",\"slug\":\"publishin...</td>\n",
       "      <td>2820</td>\n",
       "      <td>US</td>\n",
       "      <td>1354817071</td>\n",
       "      <td>{\"id\":1178460181,\"name\":\"Dawn Johnston\",\"is_re...</td>\n",
       "      <td>USD</td>\n",
       "      <td>$</td>\n",
       "      <td>True</td>\n",
       "      <td>...</td>\n",
       "      <td>help-change-the-face-of-brain-impairment</td>\n",
       "      <td>https://www.kickstarter.com/discover/categorie...</td>\n",
       "      <td>True</td>\n",
       "      <td>False</td>\n",
       "      <td>successful</td>\n",
       "      <td>1357763527</td>\n",
       "      <td>1.000000</td>\n",
       "      <td>{\"web\":{\"project\":\"https://www.kickstarter.com...</td>\n",
       "      <td>2820.000000</td>\n",
       "      <td>domestic</td>\n",
       "    </tr>\n",
       "  </tbody>\n",
       "</table>\n",
       "<p>5 rows × 37 columns</p>\n",
       "</div>"
      ],
      "text/plain": [
       "   backers_count                                              blurb  \\\n",
       "0            315                                      Babalus Shoes   \n",
       "1             47  A colorful Dia de los Muertos themed oracle de...   \n",
       "2            271  Electra's long awaited, eclectic Debut Pop/Roc...   \n",
       "3              3  The Mist of Tribunal is a turn-based card game...   \n",
       "4              3  Livng with a brain impairment, what its like t...   \n",
       "\n",
       "                                            category  \\\n",
       "0  {\"id\":266,\"name\":\"Footwear\",\"slug\":\"fashion/fo...   \n",
       "1  {\"id\":273,\"name\":\"Playing Cards\",\"slug\":\"games...   \n",
       "2  {\"id\":43,\"name\":\"Rock\",\"slug\":\"music/rock\",\"po...   \n",
       "3  {\"id\":273,\"name\":\"Playing Cards\",\"slug\":\"games...   \n",
       "4  {\"id\":48,\"name\":\"Nonfiction\",\"slug\":\"publishin...   \n",
       "\n",
       "   converted_pledged_amount country  created_at  \\\n",
       "0                     28645      US  1541459205   \n",
       "1                      1950      US  1501684093   \n",
       "2                     22404      US  1348987533   \n",
       "3                       165      GB  1483780271   \n",
       "4                      2820      US  1354817071   \n",
       "\n",
       "                                             creator currency currency_symbol  \\\n",
       "0  {\"id\":2094277840,\"name\":\"Lucy Conroy\",\"slug\":\"...      USD               $   \n",
       "1  {\"id\":723886115,\"name\":\"Lisa Vollrath\",\"slug\":...      USD               $   \n",
       "2  {\"id\":323849677,\"name\":\"Electra\",\"is_registere...      USD               $   \n",
       "3  {\"id\":196281496,\"name\":\"Artur Ordijanc (delete...      GBP               £   \n",
       "4  {\"id\":1178460181,\"name\":\"Dawn Johnston\",\"is_re...      USD               $   \n",
       "\n",
       "   currency_trailing_code  ...  \\\n",
       "0                    True  ...   \n",
       "1                    True  ...   \n",
       "2                    True  ...   \n",
       "3                   False  ...   \n",
       "4                    True  ...   \n",
       "\n",
       "                                             slug  \\\n",
       "0                         babalus-childrens-shoes   \n",
       "1                         the-ofrenda-oracle-deck   \n",
       "2  record-electras-debut-album-pop-rock-classical   \n",
       "3                the-mist-of-tribunal-a-card-game   \n",
       "4        help-change-the-face-of-brain-impairment   \n",
       "\n",
       "                                          source_url  spotlight staff_pick  \\\n",
       "0  https://www.kickstarter.com/discover/categorie...      False      False   \n",
       "1  https://www.kickstarter.com/discover/categorie...       True      False   \n",
       "2  https://www.kickstarter.com/discover/categorie...       True      False   \n",
       "3  https://www.kickstarter.com/discover/categorie...      False      False   \n",
       "4  https://www.kickstarter.com/discover/categorie...       True      False   \n",
       "\n",
       "        state  state_changed_at  static_usd_rate  \\\n",
       "0        live        1548223375         1.000000   \n",
       "1  successful        1504976459         1.000000   \n",
       "2  successful        1371013395         1.000000   \n",
       "3      failed        1489425776         1.216066   \n",
       "4  successful        1357763527         1.000000   \n",
       "\n",
       "                                                urls   usd_pledged  \\\n",
       "0  {\"web\":{\"project\":\"https://www.kickstarter.com...  28645.000000   \n",
       "1  {\"web\":{\"project\":\"https://www.kickstarter.com...   1950.000000   \n",
       "2  {\"web\":{\"project\":\"https://www.kickstarter.com...  22404.000000   \n",
       "3  {\"web\":{\"project\":\"https://www.kickstarter.com...    165.384934   \n",
       "4  {\"web\":{\"project\":\"https://www.kickstarter.com...   2820.000000   \n",
       "\n",
       "        usd_type  \n",
       "0  international  \n",
       "1       domestic  \n",
       "2  international  \n",
       "3       domestic  \n",
       "4       domestic  \n",
       "\n",
       "[5 rows x 37 columns]"
      ]
     },
     "execution_count": 11,
     "metadata": {},
     "output_type": "execute_result"
    }
   ],
   "source": [
    "df.head()"
   ]
  },
  {
   "cell_type": "markdown",
   "metadata": {},
   "source": [
    "We want to extract the slug out of the category column dictionary and separate the main genre out of it."
   ]
  },
  {
   "cell_type": "code",
   "execution_count": 12,
   "metadata": {},
   "outputs": [],
   "source": [
    "# we want to get the information after the key slug out of the sting in the category column\n",
    "# we have a string in the format of a dictionary so we transform the string to a dictionary\n",
    "df['category'] = df['category'].apply(lambda x: ast.literal_eval(x))\n",
    "#then we can extract the information of the key: slug in the dictionary and get back the genre\n",
    "df['category_slug'] = df['category'].apply(lambda x: x.get('slug'))"
   ]
  },
  {
   "cell_type": "code",
   "execution_count": null,
   "metadata": {},
   "outputs": [],
   "source": []
  },
  {
   "cell_type": "code",
   "execution_count": 13,
   "metadata": {},
   "outputs": [],
   "source": [
    "#we get back a string with a combination of two genres,separated by a /. We only want to have the first one,\n",
    "#so we split by / and select only the first entry of the now list of splitted words.\n",
    "df['category_slug'] = df['category_slug'].apply(lambda x: x.split(\"/\")[0])"
   ]
  },
  {
   "cell_type": "code",
   "execution_count": 14,
   "metadata": {},
   "outputs": [
    {
     "data": {
      "text/plain": [
       "0              fashion\n",
       "1                games\n",
       "2                music\n",
       "3                games\n",
       "4           publishing\n",
       "              ...     \n",
       "209217           games\n",
       "209218           music\n",
       "209219      technology\n",
       "209220    film & video\n",
       "209221      journalism\n",
       "Name: category_slug, Length: 209222, dtype: object"
      ]
     },
     "execution_count": 14,
     "metadata": {},
     "output_type": "execute_result"
    }
   ],
   "source": [
    "#show the genres of the projects\n",
    "df['category_slug']"
   ]
  },
  {
   "cell_type": "markdown",
   "metadata": {},
   "source": [
    "\n",
    "# candidates columns to be deleted:\n",
    "> *blurb* : only non qualitativ descriptive information about the project \n",
    "\n",
    "> *category*: we keep it for future model processing. The values of this column are dictionary packed as string. It dosen't provide us directly with a quantitative value. Later may be we extract some usefull numerical information from it. \n",
    "\n",
    "> *creators* : same reasons as for categories  \n",
    "\n",
    "> *currency_symbol*\n",
    "\n",
    "> *currency_trailing_code*\n",
    "\n",
    "> *slug*\n",
    "\n",
    "> *source_url*\n",
    "\n",
    "> *spotlight*\n",
    "\n",
    "> *state_usd_rate*\n",
    "\n",
    "> *urls*\n",
    "\n",
    "> *friends* : it contains just NaN and \"[ ]\".\n",
    "\n",
    "> *fx_rate* \n",
    "\n",
    "> *id*\n",
    "\n",
    "> *is_starred*\n",
    "\n",
    "> *is_backing*\n",
    "\n",
    "> *location*\n",
    "\n",
    "> *permissions*\n",
    "\n",
    "> *photo*\n",
    "\n",
    "> *pledged*\n",
    "\n",
    "> *name*\n",
    "\n",
    "> *profile*\n",
    "\n",
    "# candidates for dummies\n",
    "> *country*\n",
    "\n",
    "> *currency*\n",
    "# candidate for type-transformation\n",
    "\n",
    "> *created_at* we want to have a DateTime type!\n",
    "\n",
    "> *statechange_at* we want to have a DateTime datatype!\n",
    "\n",
    "> *launched_at*\n",
    "\n",
    "# *Target* : state"
   ]
  },
  {
   "cell_type": "markdown",
   "metadata": {},
   "source": [
    "As we see in the foolowing code the currency, currency_symbol and currency_trailing_code are completly correlated. So we can delete two of them."
   ]
  },
  {
   "cell_type": "code",
   "execution_count": 15,
   "metadata": {},
   "outputs": [
    {
     "data": {
      "text/plain": [
       "0"
      ]
     },
     "execution_count": 15,
     "metadata": {},
     "output_type": "execute_result"
    }
   ],
   "source": [
    "# in this code we show that all currencies not US dollars have a False value for currency_trailing_code variable.\n",
    "len(df[(df['currency_symbol']=='€') & (df['currency_trailing_code']==True)])"
   ]
  },
  {
   "cell_type": "code",
   "execution_count": 16,
   "metadata": {},
   "outputs": [
    {
     "data": {
      "text/plain": [
       "117465"
      ]
     },
     "execution_count": 16,
     "metadata": {},
     "output_type": "execute_result"
    }
   ],
   "source": [
    "# in this code we show that all currencies not US dollars have a False value for currency_trailing_code variable.\n",
    "len(df[(df['friends'].isnull()) & (df['state']==\"successful\")])"
   ]
  },
  {
   "cell_type": "markdown",
   "metadata": {},
   "source": [
    "Here we delete the clomuns we don't need!"
   ]
  },
  {
   "cell_type": "code",
   "execution_count": 17,
   "metadata": {},
   "outputs": [],
   "source": [
    "# in this cell we delete the unwanted columns!\n",
    "df_1= df.drop(['blurb', 'category', 'creator', 'currency_symbol',\n",
    "       'currency_trailing_code', 'friends', 'fx_rate', 'id',\n",
    "       'is_backing', 'is_starred', 'location',\n",
    "       'name', 'permissions', 'photo', 'pledged', 'profile', 'slug',\n",
    "       'source_url', 'spotlight',\n",
    "       'static_usd_rate', 'urls'], axis=1)"
   ]
  },
  {
   "cell_type": "code",
   "execution_count": 18,
   "metadata": {},
   "outputs": [],
   "source": [
    "# we change the type of columns \"crerated_at\", \"launched_at\", \"deadline\" and \"state_changed_at\". \n",
    "# We note that the unit of this columns is Second!\n",
    "df_1[[\"created_at\", \"launched_at\", \"deadline\", \"state_changed_at\"]] = df_1[[\"created_at\", \"launched_at\", \"deadline\", \"state_changed_at\"]].apply(pd.to_datetime, unit='s')"
   ]
  },
  {
   "cell_type": "code",
   "execution_count": 19,
   "metadata": {},
   "outputs": [],
   "source": [
    "#we want to extract day, month and your out of the data and store them in different columns\n",
    "#df_1['created_at_year'] = df_1['created_at'].dt.year\n",
    "#df_1['created_at_month'] = df_1['created_at'].dt.month\n",
    "#df_1['created_at_day'] = df_1['created_at'].dt.day"
   ]
  },
  {
   "cell_type": "code",
   "execution_count": 20,
   "metadata": {},
   "outputs": [
    {
     "data": {
      "text/html": [
       "<div>\n",
       "<style scoped>\n",
       "    .dataframe tbody tr th:only-of-type {\n",
       "        vertical-align: middle;\n",
       "    }\n",
       "\n",
       "    .dataframe tbody tr th {\n",
       "        vertical-align: top;\n",
       "    }\n",
       "\n",
       "    .dataframe thead th {\n",
       "        text-align: right;\n",
       "    }\n",
       "</style>\n",
       "<table border=\"1\" class=\"dataframe\">\n",
       "  <thead>\n",
       "    <tr style=\"text-align: right;\">\n",
       "      <th></th>\n",
       "      <th>backers_count</th>\n",
       "      <th>converted_pledged_amount</th>\n",
       "      <th>country</th>\n",
       "      <th>created_at</th>\n",
       "      <th>currency</th>\n",
       "      <th>current_currency</th>\n",
       "      <th>deadline</th>\n",
       "      <th>disable_communication</th>\n",
       "      <th>goal</th>\n",
       "      <th>is_starrable</th>\n",
       "      <th>launched_at</th>\n",
       "      <th>staff_pick</th>\n",
       "      <th>state</th>\n",
       "      <th>state_changed_at</th>\n",
       "      <th>usd_pledged</th>\n",
       "      <th>usd_type</th>\n",
       "      <th>category_slug</th>\n",
       "    </tr>\n",
       "  </thead>\n",
       "  <tbody>\n",
       "    <tr>\n",
       "      <th>0</th>\n",
       "      <td>315</td>\n",
       "      <td>28645</td>\n",
       "      <td>US</td>\n",
       "      <td>1541459205</td>\n",
       "      <td>USD</td>\n",
       "      <td>USD</td>\n",
       "      <td>1552539775</td>\n",
       "      <td>False</td>\n",
       "      <td>28000.0</td>\n",
       "      <td>False</td>\n",
       "      <td>1548223375</td>\n",
       "      <td>False</td>\n",
       "      <td>live</td>\n",
       "      <td>1548223375</td>\n",
       "      <td>28645.0</td>\n",
       "      <td>international</td>\n",
       "      <td>fashion</td>\n",
       "    </tr>\n",
       "    <tr>\n",
       "      <th>1</th>\n",
       "      <td>47</td>\n",
       "      <td>1950</td>\n",
       "      <td>US</td>\n",
       "      <td>1501684093</td>\n",
       "      <td>USD</td>\n",
       "      <td>USD</td>\n",
       "      <td>1504976459</td>\n",
       "      <td>False</td>\n",
       "      <td>1000.0</td>\n",
       "      <td>False</td>\n",
       "      <td>1502384459</td>\n",
       "      <td>False</td>\n",
       "      <td>successful</td>\n",
       "      <td>1504976459</td>\n",
       "      <td>1950.0</td>\n",
       "      <td>domestic</td>\n",
       "      <td>games</td>\n",
       "    </tr>\n",
       "  </tbody>\n",
       "</table>\n",
       "</div>"
      ],
      "text/plain": [
       "   backers_count  converted_pledged_amount country  created_at currency  \\\n",
       "0            315                     28645      US  1541459205      USD   \n",
       "1             47                      1950      US  1501684093      USD   \n",
       "\n",
       "  current_currency    deadline  disable_communication     goal  is_starrable  \\\n",
       "0              USD  1552539775                  False  28000.0         False   \n",
       "1              USD  1504976459                  False   1000.0         False   \n",
       "\n",
       "   launched_at  staff_pick       state  state_changed_at  usd_pledged  \\\n",
       "0   1548223375       False        live        1548223375      28645.0   \n",
       "1   1502384459       False  successful        1504976459       1950.0   \n",
       "\n",
       "        usd_type category_slug  \n",
       "0  international       fashion  \n",
       "1       domestic         games  "
      ]
     },
     "execution_count": 20,
     "metadata": {},
     "output_type": "execute_result"
    }
   ],
   "source": [
    "df_1.head(2)"
   ]
  },
  {
   "cell_type": "code",
   "execution_count": 21,
   "metadata": {},
   "outputs": [],
   "source": [
    "# In this cell we delete all rows of the dataframe with the state value of \"live\". \n",
    "# Because this rows do not tell us an thing about the succeed of the project.\n",
    "\n",
    "df_1 = df_1[(df_1.state != \"live\")] \n",
    "df_1 = df_1[(df_1.state != \"canceled\")] \n",
    "df_1 = df_1[(df_1.state != \"suspended\")] \n",
    "\n",
    "#df_1 = df_1.drop(df_1[(df_1.state== \"live\") & (df_1.state==\"suspended\") & (df_1.state==\"canceled\")].index)\n"
   ]
  },
  {
   "cell_type": "code",
   "execution_count": 22,
   "metadata": {},
   "outputs": [],
   "source": [
    "# Now we replace \"successful\" and \"failed\" with \"1\" and \"o respectively\". These are the values of our target column.\n",
    "df_1[\"state\"] = df_1[\"state\"].replace([\"successful\", \"failed\"], [1, 0])"
   ]
  },
  {
   "cell_type": "code",
   "execution_count": 23,
   "metadata": {},
   "outputs": [],
   "source": [
    "# we round the values of usd_pledged and goal\n",
    "df_1[[\"goal\",\"usd_pledged\"]]=df_1[[\"goal\",\"usd_pledged\"]].round(0)"
   ]
  },
  {
   "cell_type": "code",
   "execution_count": 24,
   "metadata": {},
   "outputs": [],
   "source": [
    "# we reset the index!\n",
    "df_1 = df_1.reset_index(drop=True)"
   ]
  },
  {
   "cell_type": "code",
   "execution_count": 25,
   "metadata": {},
   "outputs": [],
   "source": [
    "# As we see in the table above the features \"disable_communication\" and \"is_starrable\" just take one single value,\n",
    "# meanings that they constant. Therefor they do npot provide us with any new insight into the data. \n",
    "# Therefore we delete the corresponding columns.\n",
    "df_1= df_1.drop([\"disable_communication\", \"is_starrable\"], axis=1)"
   ]
  },
  {
   "cell_type": "code",
   "execution_count": 26,
   "metadata": {},
   "outputs": [
    {
     "data": {
      "text/plain": [
       "backers_count                 3206\n",
       "converted_pledged_amount     30787\n",
       "country                         22\n",
       "created_at                  168890\n",
       "currency                        14\n",
       "current_currency                 2\n",
       "deadline                    158484\n",
       "goal                          4804\n",
       "launched_at                 168847\n",
       "staff_pick                       2\n",
       "state                            2\n",
       "state_changed_at            158780\n",
       "usd_pledged                  30775\n",
       "usd_type                         2\n",
       "category_slug                   15\n",
       "dtype: int64"
      ]
     },
     "execution_count": 26,
     "metadata": {},
     "output_type": "execute_result"
    }
   ],
   "source": [
    "df_1.nunique()"
   ]
  },
  {
   "cell_type": "markdown",
   "metadata": {},
   "source": [
    "--- May be we should remove the \"country from dummie-list\"---"
   ]
  },
  {
   "cell_type": "code",
   "execution_count": 27,
   "metadata": {},
   "outputs": [
    {
     "data": {
      "text/plain": [
       "\"\\nfrom sklearn.preprocessing import OneHotEncoder\\nfrom sklearn.compose import make_column_transformer\\nfrom seaborn import load_dataset\\n\\ntransformer = make_column_transformer(\\n    (OneHotEncoder(), ['country']),\\n    remainder='passthrough')\\n\\ntransformed = transformer.fit_transform(df_1)\\ntransformed_df = pd.DataFrame(\\n    transformed, \\n    columns=transformer.get_feature_names()\\n)\\n\""
      ]
     },
     "execution_count": 27,
     "metadata": {},
     "output_type": "execute_result"
    }
   ],
   "source": [
    "# In this cell we convert all categorical variable in dummies, so we can work in models.\n",
    "df_2 = pd.get_dummies(df_1, columns=[\"country\", \"currency\", \"current_currency\", \"staff_pick\", \"usd_type\",\"category_slug\"])\n",
    "# Here is an alternative approach\n",
    "# Using make_column_transformer to One-Hot Encode\n",
    "'''\n",
    "from sklearn.preprocessing import OneHotEncoder\n",
    "from sklearn.compose import make_column_transformer\n",
    "from seaborn import load_dataset\n",
    "\n",
    "transformer = make_column_transformer(\n",
    "    (OneHotEncoder(), ['country']),\n",
    "    remainder='passthrough')\n",
    "\n",
    "transformed = transformer.fit_transform(df_1)\n",
    "transformed_df = pd.DataFrame(\n",
    "    transformed, \n",
    "    columns=transformer.get_feature_names()\n",
    ")\n",
    "'''"
   ]
  },
  {
   "cell_type": "markdown",
   "metadata": {},
   "source": [
    "## Problem \n",
    "\n",
    "We recognized by modelling, that our predictions are perfect, so we assumed that we have to many data.\n",
    "So we figured out that we can't know some things when we start a project and we have to drop more data out of the data frame.\n",
    "These are:\n",
    "\n",
    "- usd_pledged\n",
    "- converted_pledged_amount\n",
    "- backers_count\n",
    "\n",
    "For the timestamps we recognized that state_changed_at is closely the same time( only some seconds difference) to deadline\n",
    "so we will drop this also\n",
    "\n",
    "- state_changed_at"
   ]
  },
  {
   "cell_type": "code",
   "execution_count": 28,
   "metadata": {},
   "outputs": [],
   "source": [
    "df_2 = df_2.drop(['usd_pledged','converted_pledged_amount','backers_count','state_changed_at'], axis = 1)"
   ]
  },
  {
   "cell_type": "code",
   "execution_count": 29,
   "metadata": {},
   "outputs": [
    {
     "data": {
      "text/html": [
       "<div>\n",
       "<style scoped>\n",
       "    .dataframe tbody tr th:only-of-type {\n",
       "        vertical-align: middle;\n",
       "    }\n",
       "\n",
       "    .dataframe tbody tr th {\n",
       "        vertical-align: top;\n",
       "    }\n",
       "\n",
       "    .dataframe thead th {\n",
       "        text-align: right;\n",
       "    }\n",
       "</style>\n",
       "<table border=\"1\" class=\"dataframe\">\n",
       "  <thead>\n",
       "    <tr style=\"text-align: right;\">\n",
       "      <th></th>\n",
       "      <th>created_at</th>\n",
       "      <th>deadline</th>\n",
       "      <th>goal</th>\n",
       "      <th>launched_at</th>\n",
       "      <th>state</th>\n",
       "      <th>country_AT</th>\n",
       "      <th>country_AU</th>\n",
       "      <th>country_BE</th>\n",
       "      <th>country_CA</th>\n",
       "      <th>country_CH</th>\n",
       "      <th>...</th>\n",
       "      <th>category_slug_fashion</th>\n",
       "      <th>category_slug_film &amp; video</th>\n",
       "      <th>category_slug_food</th>\n",
       "      <th>category_slug_games</th>\n",
       "      <th>category_slug_journalism</th>\n",
       "      <th>category_slug_music</th>\n",
       "      <th>category_slug_photography</th>\n",
       "      <th>category_slug_publishing</th>\n",
       "      <th>category_slug_technology</th>\n",
       "      <th>category_slug_theater</th>\n",
       "    </tr>\n",
       "  </thead>\n",
       "  <tbody>\n",
       "    <tr>\n",
       "      <th>0</th>\n",
       "      <td>1501684093</td>\n",
       "      <td>1504976459</td>\n",
       "      <td>1000.0</td>\n",
       "      <td>1502384459</td>\n",
       "      <td>1</td>\n",
       "      <td>0</td>\n",
       "      <td>0</td>\n",
       "      <td>0</td>\n",
       "      <td>0</td>\n",
       "      <td>0</td>\n",
       "      <td>...</td>\n",
       "      <td>0</td>\n",
       "      <td>0</td>\n",
       "      <td>0</td>\n",
       "      <td>1</td>\n",
       "      <td>0</td>\n",
       "      <td>0</td>\n",
       "      <td>0</td>\n",
       "      <td>0</td>\n",
       "      <td>0</td>\n",
       "      <td>0</td>\n",
       "    </tr>\n",
       "    <tr>\n",
       "      <th>1</th>\n",
       "      <td>1348987533</td>\n",
       "      <td>1371013395</td>\n",
       "      <td>15000.0</td>\n",
       "      <td>1368421395</td>\n",
       "      <td>1</td>\n",
       "      <td>0</td>\n",
       "      <td>0</td>\n",
       "      <td>0</td>\n",
       "      <td>0</td>\n",
       "      <td>0</td>\n",
       "      <td>...</td>\n",
       "      <td>0</td>\n",
       "      <td>0</td>\n",
       "      <td>0</td>\n",
       "      <td>0</td>\n",
       "      <td>0</td>\n",
       "      <td>1</td>\n",
       "      <td>0</td>\n",
       "      <td>0</td>\n",
       "      <td>0</td>\n",
       "      <td>0</td>\n",
       "    </tr>\n",
       "    <tr>\n",
       "      <th>2</th>\n",
       "      <td>1483780271</td>\n",
       "      <td>1489425776</td>\n",
       "      <td>10000.0</td>\n",
       "      <td>1484245376</td>\n",
       "      <td>0</td>\n",
       "      <td>0</td>\n",
       "      <td>0</td>\n",
       "      <td>0</td>\n",
       "      <td>0</td>\n",
       "      <td>0</td>\n",
       "      <td>...</td>\n",
       "      <td>0</td>\n",
       "      <td>0</td>\n",
       "      <td>0</td>\n",
       "      <td>1</td>\n",
       "      <td>0</td>\n",
       "      <td>0</td>\n",
       "      <td>0</td>\n",
       "      <td>0</td>\n",
       "      <td>0</td>\n",
       "      <td>0</td>\n",
       "    </tr>\n",
       "    <tr>\n",
       "      <th>3</th>\n",
       "      <td>1354817071</td>\n",
       "      <td>1357763527</td>\n",
       "      <td>2800.0</td>\n",
       "      <td>1355171527</td>\n",
       "      <td>1</td>\n",
       "      <td>0</td>\n",
       "      <td>0</td>\n",
       "      <td>0</td>\n",
       "      <td>0</td>\n",
       "      <td>0</td>\n",
       "      <td>...</td>\n",
       "      <td>0</td>\n",
       "      <td>0</td>\n",
       "      <td>0</td>\n",
       "      <td>0</td>\n",
       "      <td>0</td>\n",
       "      <td>0</td>\n",
       "      <td>0</td>\n",
       "      <td>1</td>\n",
       "      <td>0</td>\n",
       "      <td>0</td>\n",
       "    </tr>\n",
       "    <tr>\n",
       "      <th>4</th>\n",
       "      <td>1414172150</td>\n",
       "      <td>1430533546</td>\n",
       "      <td>3500.0</td>\n",
       "      <td>1427941546</td>\n",
       "      <td>1</td>\n",
       "      <td>0</td>\n",
       "      <td>0</td>\n",
       "      <td>0</td>\n",
       "      <td>0</td>\n",
       "      <td>0</td>\n",
       "      <td>...</td>\n",
       "      <td>0</td>\n",
       "      <td>0</td>\n",
       "      <td>0</td>\n",
       "      <td>0</td>\n",
       "      <td>0</td>\n",
       "      <td>1</td>\n",
       "      <td>0</td>\n",
       "      <td>0</td>\n",
       "      <td>0</td>\n",
       "      <td>0</td>\n",
       "    </tr>\n",
       "    <tr>\n",
       "      <th>...</th>\n",
       "      <td>...</td>\n",
       "      <td>...</td>\n",
       "      <td>...</td>\n",
       "      <td>...</td>\n",
       "      <td>...</td>\n",
       "      <td>...</td>\n",
       "      <td>...</td>\n",
       "      <td>...</td>\n",
       "      <td>...</td>\n",
       "      <td>...</td>\n",
       "      <td>...</td>\n",
       "      <td>...</td>\n",
       "      <td>...</td>\n",
       "      <td>...</td>\n",
       "      <td>...</td>\n",
       "      <td>...</td>\n",
       "      <td>...</td>\n",
       "      <td>...</td>\n",
       "      <td>...</td>\n",
       "      <td>...</td>\n",
       "      <td>...</td>\n",
       "    </tr>\n",
       "    <tr>\n",
       "      <th>192659</th>\n",
       "      <td>1543286891</td>\n",
       "      <td>1544589900</td>\n",
       "      <td>1500.0</td>\n",
       "      <td>1543358312</td>\n",
       "      <td>1</td>\n",
       "      <td>0</td>\n",
       "      <td>0</td>\n",
       "      <td>0</td>\n",
       "      <td>0</td>\n",
       "      <td>0</td>\n",
       "      <td>...</td>\n",
       "      <td>0</td>\n",
       "      <td>0</td>\n",
       "      <td>0</td>\n",
       "      <td>1</td>\n",
       "      <td>0</td>\n",
       "      <td>0</td>\n",
       "      <td>0</td>\n",
       "      <td>0</td>\n",
       "      <td>0</td>\n",
       "      <td>0</td>\n",
       "    </tr>\n",
       "    <tr>\n",
       "      <th>192660</th>\n",
       "      <td>1493041572</td>\n",
       "      <td>1497909600</td>\n",
       "      <td>5000.0</td>\n",
       "      <td>1494782514</td>\n",
       "      <td>1</td>\n",
       "      <td>0</td>\n",
       "      <td>0</td>\n",
       "      <td>0</td>\n",
       "      <td>0</td>\n",
       "      <td>0</td>\n",
       "      <td>...</td>\n",
       "      <td>0</td>\n",
       "      <td>0</td>\n",
       "      <td>0</td>\n",
       "      <td>0</td>\n",
       "      <td>0</td>\n",
       "      <td>1</td>\n",
       "      <td>0</td>\n",
       "      <td>0</td>\n",
       "      <td>0</td>\n",
       "      <td>0</td>\n",
       "    </tr>\n",
       "    <tr>\n",
       "      <th>192661</th>\n",
       "      <td>1341343795</td>\n",
       "      <td>1347854340</td>\n",
       "      <td>2500.0</td>\n",
       "      <td>1344976590</td>\n",
       "      <td>1</td>\n",
       "      <td>0</td>\n",
       "      <td>0</td>\n",
       "      <td>0</td>\n",
       "      <td>0</td>\n",
       "      <td>0</td>\n",
       "      <td>...</td>\n",
       "      <td>0</td>\n",
       "      <td>0</td>\n",
       "      <td>0</td>\n",
       "      <td>0</td>\n",
       "      <td>0</td>\n",
       "      <td>0</td>\n",
       "      <td>0</td>\n",
       "      <td>0</td>\n",
       "      <td>1</td>\n",
       "      <td>0</td>\n",
       "    </tr>\n",
       "    <tr>\n",
       "      <th>192662</th>\n",
       "      <td>1425256957</td>\n",
       "      <td>1429536375</td>\n",
       "      <td>5500.0</td>\n",
       "      <td>1426944375</td>\n",
       "      <td>1</td>\n",
       "      <td>0</td>\n",
       "      <td>0</td>\n",
       "      <td>0</td>\n",
       "      <td>0</td>\n",
       "      <td>0</td>\n",
       "      <td>...</td>\n",
       "      <td>0</td>\n",
       "      <td>1</td>\n",
       "      <td>0</td>\n",
       "      <td>0</td>\n",
       "      <td>0</td>\n",
       "      <td>0</td>\n",
       "      <td>0</td>\n",
       "      <td>0</td>\n",
       "      <td>0</td>\n",
       "      <td>0</td>\n",
       "    </tr>\n",
       "    <tr>\n",
       "      <th>192663</th>\n",
       "      <td>1263225900</td>\n",
       "      <td>1266814740</td>\n",
       "      <td>1000.0</td>\n",
       "      <td>1264099593</td>\n",
       "      <td>1</td>\n",
       "      <td>0</td>\n",
       "      <td>0</td>\n",
       "      <td>0</td>\n",
       "      <td>0</td>\n",
       "      <td>0</td>\n",
       "      <td>...</td>\n",
       "      <td>0</td>\n",
       "      <td>0</td>\n",
       "      <td>0</td>\n",
       "      <td>0</td>\n",
       "      <td>1</td>\n",
       "      <td>0</td>\n",
       "      <td>0</td>\n",
       "      <td>0</td>\n",
       "      <td>0</td>\n",
       "      <td>0</td>\n",
       "    </tr>\n",
       "  </tbody>\n",
       "</table>\n",
       "<p>192664 rows × 62 columns</p>\n",
       "</div>"
      ],
      "text/plain": [
       "        created_at    deadline     goal  launched_at  state  country_AT  \\\n",
       "0       1501684093  1504976459   1000.0   1502384459      1           0   \n",
       "1       1348987533  1371013395  15000.0   1368421395      1           0   \n",
       "2       1483780271  1489425776  10000.0   1484245376      0           0   \n",
       "3       1354817071  1357763527   2800.0   1355171527      1           0   \n",
       "4       1414172150  1430533546   3500.0   1427941546      1           0   \n",
       "...            ...         ...      ...          ...    ...         ...   \n",
       "192659  1543286891  1544589900   1500.0   1543358312      1           0   \n",
       "192660  1493041572  1497909600   5000.0   1494782514      1           0   \n",
       "192661  1341343795  1347854340   2500.0   1344976590      1           0   \n",
       "192662  1425256957  1429536375   5500.0   1426944375      1           0   \n",
       "192663  1263225900  1266814740   1000.0   1264099593      1           0   \n",
       "\n",
       "        country_AU  country_BE  country_CA  country_CH  ...  \\\n",
       "0                0           0           0           0  ...   \n",
       "1                0           0           0           0  ...   \n",
       "2                0           0           0           0  ...   \n",
       "3                0           0           0           0  ...   \n",
       "4                0           0           0           0  ...   \n",
       "...            ...         ...         ...         ...  ...   \n",
       "192659           0           0           0           0  ...   \n",
       "192660           0           0           0           0  ...   \n",
       "192661           0           0           0           0  ...   \n",
       "192662           0           0           0           0  ...   \n",
       "192663           0           0           0           0  ...   \n",
       "\n",
       "        category_slug_fashion  category_slug_film & video  category_slug_food  \\\n",
       "0                           0                           0                   0   \n",
       "1                           0                           0                   0   \n",
       "2                           0                           0                   0   \n",
       "3                           0                           0                   0   \n",
       "4                           0                           0                   0   \n",
       "...                       ...                         ...                 ...   \n",
       "192659                      0                           0                   0   \n",
       "192660                      0                           0                   0   \n",
       "192661                      0                           0                   0   \n",
       "192662                      0                           1                   0   \n",
       "192663                      0                           0                   0   \n",
       "\n",
       "        category_slug_games  category_slug_journalism  category_slug_music  \\\n",
       "0                         1                         0                    0   \n",
       "1                         0                         0                    1   \n",
       "2                         1                         0                    0   \n",
       "3                         0                         0                    0   \n",
       "4                         0                         0                    1   \n",
       "...                     ...                       ...                  ...   \n",
       "192659                    1                         0                    0   \n",
       "192660                    0                         0                    1   \n",
       "192661                    0                         0                    0   \n",
       "192662                    0                         0                    0   \n",
       "192663                    0                         1                    0   \n",
       "\n",
       "        category_slug_photography  category_slug_publishing  \\\n",
       "0                               0                         0   \n",
       "1                               0                         0   \n",
       "2                               0                         0   \n",
       "3                               0                         1   \n",
       "4                               0                         0   \n",
       "...                           ...                       ...   \n",
       "192659                          0                         0   \n",
       "192660                          0                         0   \n",
       "192661                          0                         0   \n",
       "192662                          0                         0   \n",
       "192663                          0                         0   \n",
       "\n",
       "        category_slug_technology  category_slug_theater  \n",
       "0                              0                      0  \n",
       "1                              0                      0  \n",
       "2                              0                      0  \n",
       "3                              0                      0  \n",
       "4                              0                      0  \n",
       "...                          ...                    ...  \n",
       "192659                         0                      0  \n",
       "192660                         0                      0  \n",
       "192661                         1                      0  \n",
       "192662                         0                      0  \n",
       "192663                         0                      0  \n",
       "\n",
       "[192664 rows x 62 columns]"
      ]
     },
     "execution_count": 29,
     "metadata": {},
     "output_type": "execute_result"
    }
   ],
   "source": [
    "# df_2 is the clean data with essential preproccessing steps done on it!\n",
    "\n",
    "df_2"
   ]
  },
  {
   "cell_type": "code",
   "execution_count": 30,
   "metadata": {},
   "outputs": [
    {
     "data": {
      "text/plain": [
       "<AxesSubplot:xlabel='state', ylabel='goal'>"
      ]
     },
     "execution_count": 30,
     "metadata": {},
     "output_type": "execute_result"
    },
    {
     "data": {
      "image/png": "[encoded data removed]",
      "text/plain": [
       "<Figure size 640x480 with 1 Axes>"
      ]
     },
     "metadata": {},
     "output_type": "display_data"
    }
   ],
   "source": [
    "pd.set_option('display.max_columns', None)\n",
    "\n",
    "#df_2.corr()\n",
    "\n",
    "sns.barplot(data=df_2, x=\"state\", y=\"goal\")"
   ]
  },
  {
   "cell_type": "code",
   "execution_count": 31,
   "metadata": {},
   "outputs": [
    {
     "data": {
      "text/plain": [
       "<AxesSubplot:xlabel='state', ylabel='goal'>"
      ]
     },
     "execution_count": 31,
     "metadata": {},
     "output_type": "execute_result"
    },
    {
     "data": {
      "image/png": "[encoded data removed]",
      "text/plain": [
       "<Figure size 640x480 with 1 Axes>"
      ]
     },
     "metadata": {},
     "output_type": "display_data"
    }
   ],
   "source": [
    "sns.scatterplot(data=df_2, x=\"state\", y=\"goal\")"
   ]
  },
  {
   "cell_type": "code",
   "execution_count": 32,
   "metadata": {},
   "outputs": [
    {
     "data": {
      "text/plain": [
       "1    117465\n",
       "0     75199\n",
       "Name: state, dtype: int64"
      ]
     },
     "execution_count": 32,
     "metadata": {},
     "output_type": "execute_result"
    }
   ],
   "source": [
    "df_2['state'].value_counts()"
   ]
  },
  {
   "cell_type": "markdown",
   "metadata": {},
   "source": [
    "## Splitting and the data"
   ]
  },
  {
   "cell_type": "markdown",
   "metadata": {},
   "source": [
    "For our models we need to split our data frame into test and train data set. Out of this we can do our baseline and big model.\n",
    "At first we have to define our target and our features for the models."
   ]
  },
  {
   "cell_type": "code",
   "execution_count": 33,
   "metadata": {},
   "outputs": [
    {
     "name": "stdout",
     "output_type": "stream",
     "text": [
      "Our features are: ['created_at', 'deadline', 'goal', 'launched_at', 'country_AT', 'country_AU', 'country_BE', 'country_CA', 'country_CH', 'country_DE', 'country_DK', 'country_ES', 'country_FR', 'country_GB', 'country_HK', 'country_IE', 'country_IT', 'country_JP', 'country_LU', 'country_MX', 'country_NL', 'country_NO', 'country_NZ', 'country_SE', 'country_SG', 'country_US', 'currency_AUD', 'currency_CAD', 'currency_CHF', 'currency_DKK', 'currency_EUR', 'currency_GBP', 'currency_HKD', 'currency_JPY', 'currency_MXN', 'currency_NOK', 'currency_NZD', 'currency_SEK', 'currency_SGD', 'currency_USD', 'current_currency_CAD', 'current_currency_USD', 'staff_pick_False', 'staff_pick_True', 'usd_type_domestic', 'usd_type_international', 'category_slug_art', 'category_slug_comics', 'category_slug_crafts', 'category_slug_dance', 'category_slug_design', 'category_slug_fashion', 'category_slug_film & video', 'category_slug_food', 'category_slug_games', 'category_slug_journalism', 'category_slug_music', 'category_slug_photography', 'category_slug_publishing', 'category_slug_technology', 'category_slug_theater']\n",
      "Our target is: state\n"
     ]
    }
   ],
   "source": [
    "X = df_2.drop('state', axis= 1)\n",
    "y = df_2['state']\n",
    "\n",
    "print('Our features are:', list(X.columns))\n",
    "print('Our target is: state')"
   ]
  },
  {
   "cell_type": "code",
   "execution_count": 34,
   "metadata": {},
   "outputs": [
    {
     "name": "stdout",
     "output_type": "stream",
     "text": [
      "Rows and columns of X_train (129084, 61)\n",
      "Rows and columns of y_train (129084,)\n",
      "Rows and columns of X_test (63580, 61)\n",
      "Rows and columns of y_test (63580,)\n"
     ]
    }
   ],
   "source": [
    "X_train, X_test, y_train, y_test = train_test_split( X, y, test_size=0.33, stratify = y, random_state=RSEED)\n",
    "'''We stratify the test split because we have an imbalance in the state column of the dataset'''\n",
    "\n",
    "print('Rows and columns of X_train', X_train.shape)\n",
    "print('Rows and columns of y_train', y_train.shape)\n",
    "print('Rows and columns of X_test', X_test.shape)\n",
    "print('Rows and columns of y_test', y_test.shape)"
   ]
  },
  {
   "cell_type": "markdown",
   "metadata": {},
   "source": [
    "## Base model and Base model evaluation"
   ]
  },
  {
   "cell_type": "markdown",
   "metadata": {},
   "source": [
    "Our hypothesis is: \n",
    "\n",
    "    If the goal is lower than 20000 the project is more likely to succeed"
   ]
  },
  {
   "cell_type": "code",
   "execution_count": 35,
   "metadata": {},
   "outputs": [
    {
     "data": {
      "text/plain": [
       "array([1, 1, 1, ..., 1, 0, 0])"
      ]
     },
     "execution_count": 35,
     "metadata": {},
     "output_type": "execute_result"
    }
   ],
   "source": [
    "#to evaluate our baseline model we need a y_baseline. We decided that we have a successful project below 20000 so i will be 1.\n",
    "# over 20000 i will be 0 for no success. So we can compare y_baseline with y_test to evaluate the model.\n",
    "y_baseline = [1 if i <= 20000 else 0 for i in X_test['goal']]\n",
    "y_baseline = np.array(y_baseline)\n",
    "y_baseline"
   ]
  },
  {
   "cell_type": "code",
   "execution_count": 36,
   "metadata": {},
   "outputs": [
    {
     "name": "stdout",
     "output_type": "stream",
     "text": [
      "---------------------------------------------\n",
      "Classification report\n",
      "---------------------------------------------\n",
      "              precision    recall  f1-score   support\n",
      "\n",
      "           0       0.62      0.27      0.37     24816\n",
      "           1       0.66      0.89      0.76     38764\n",
      "\n",
      "    accuracy                           0.65     63580\n",
      "   macro avg       0.64      0.58      0.57     63580\n",
      "weighted avg       0.64      0.65      0.61     63580\n",
      "\n",
      "---------------------------------------------\n",
      "Confusion matrix\n",
      "---------------------------------------------\n",
      "[[ 6677 18139]\n",
      " [ 4139 34625]]\n"
     ]
    }
   ],
   "source": [
    "print('---------------------------------------------')\n",
    "print('Classification report')\n",
    "print('---------------------------------------------')\n",
    "\n",
    "#built classification report\n",
    "clr = classification_report(y_test,y_baseline)\n",
    "\n",
    "print(clr)\n",
    "print('---------------------------------------------')\n",
    "print('Confusion matrix')\n",
    "print('---------------------------------------------')\n",
    "\n",
    "# building confusion matrix\n",
    "cfm = confusion_matrix(y_test,y_baseline)\n",
    "\n",
    "print(cfm)\n"
   ]
  },
  {
   "cell_type": "code",
   "execution_count": 37,
   "metadata": {},
   "outputs": [
    {
     "data": {
      "image/png": "[encoded data removed]",
      "text/plain": [
       "<Figure size 640x480 with 2 Axes>"
      ]
     },
     "metadata": {},
     "output_type": "display_data"
    }
   ],
   "source": [
    "group_names = ['True Neg','False Pos','False Neg','True Pos']\n",
    "group_counts = ['{0:0.0f}'.format(value) for value in\n",
    "                cfm.flatten()]\n",
    "group_percentages = ['{0:.2%}'.format(value) for value in\n",
    "                     cfm.flatten()/np.sum(cfm)]\n",
    "labels = [f'{v1}\\n{v2}\\n{v3}' for v1, v2, v3 in\n",
    "          zip(group_names,group_counts,group_percentages)]\n",
    "labels = np.asarray(labels).reshape(2,2)\n",
    "\n",
    "sns.heatmap(cfm, annot=labels, fmt='', cmap='Blues',linewidths = 1)\n",
    "plt.xlabel('Predicted values',fontsize=12)\n",
    "plt.ylabel('Actual values',fontsize=12)\n",
    "plt.title('-Kickstarter Success-',fontsize=12)\n",
    "plt.show()"
   ]
  },
  {
   "cell_type": "markdown",
   "metadata": {},
   "source": [
    "## Scaling all numerical data in our data frame"
   ]
  },
  {
   "cell_type": "code",
   "execution_count": 38,
   "metadata": {},
   "outputs": [
    {
     "data": {
      "text/html": [
       "<div>\n",
       "<style scoped>\n",
       "    .dataframe tbody tr th:only-of-type {\n",
       "        vertical-align: middle;\n",
       "    }\n",
       "\n",
       "    .dataframe tbody tr th {\n",
       "        vertical-align: top;\n",
       "    }\n",
       "\n",
       "    .dataframe thead th {\n",
       "        text-align: right;\n",
       "    }\n",
       "</style>\n",
       "<table border=\"1\" class=\"dataframe\">\n",
       "  <thead>\n",
       "    <tr style=\"text-align: right;\">\n",
       "      <th></th>\n",
       "      <th>created_at</th>\n",
       "      <th>deadline</th>\n",
       "      <th>goal</th>\n",
       "      <th>launched_at</th>\n",
       "      <th>country_AT</th>\n",
       "      <th>country_AU</th>\n",
       "      <th>country_BE</th>\n",
       "      <th>country_CA</th>\n",
       "      <th>country_CH</th>\n",
       "      <th>country_DE</th>\n",
       "      <th>country_DK</th>\n",
       "      <th>country_ES</th>\n",
       "      <th>country_FR</th>\n",
       "      <th>country_GB</th>\n",
       "      <th>country_HK</th>\n",
       "      <th>country_IE</th>\n",
       "      <th>country_IT</th>\n",
       "      <th>country_JP</th>\n",
       "      <th>country_LU</th>\n",
       "      <th>country_MX</th>\n",
       "      <th>country_NL</th>\n",
       "      <th>country_NO</th>\n",
       "      <th>country_NZ</th>\n",
       "      <th>country_SE</th>\n",
       "      <th>country_SG</th>\n",
       "      <th>country_US</th>\n",
       "      <th>currency_AUD</th>\n",
       "      <th>currency_CAD</th>\n",
       "      <th>currency_CHF</th>\n",
       "      <th>currency_DKK</th>\n",
       "      <th>currency_EUR</th>\n",
       "      <th>currency_GBP</th>\n",
       "      <th>currency_HKD</th>\n",
       "      <th>currency_JPY</th>\n",
       "      <th>currency_MXN</th>\n",
       "      <th>currency_NOK</th>\n",
       "      <th>currency_NZD</th>\n",
       "      <th>currency_SEK</th>\n",
       "      <th>currency_SGD</th>\n",
       "      <th>currency_USD</th>\n",
       "      <th>current_currency_CAD</th>\n",
       "      <th>current_currency_USD</th>\n",
       "      <th>staff_pick_False</th>\n",
       "      <th>staff_pick_True</th>\n",
       "      <th>usd_type_domestic</th>\n",
       "      <th>usd_type_international</th>\n",
       "      <th>category_slug_art</th>\n",
       "      <th>category_slug_comics</th>\n",
       "      <th>category_slug_crafts</th>\n",
       "      <th>category_slug_dance</th>\n",
       "      <th>category_slug_design</th>\n",
       "      <th>category_slug_fashion</th>\n",
       "      <th>category_slug_film &amp; video</th>\n",
       "      <th>category_slug_food</th>\n",
       "      <th>category_slug_games</th>\n",
       "      <th>category_slug_journalism</th>\n",
       "      <th>category_slug_music</th>\n",
       "      <th>category_slug_photography</th>\n",
       "      <th>category_slug_publishing</th>\n",
       "      <th>category_slug_technology</th>\n",
       "      <th>category_slug_theater</th>\n",
       "    </tr>\n",
       "  </thead>\n",
       "  <tbody>\n",
       "    <tr>\n",
       "      <th>24364</th>\n",
       "      <td>-0.222365</td>\n",
       "      <td>-0.314065</td>\n",
       "      <td>-0.038891</td>\n",
       "      <td>-0.289581</td>\n",
       "      <td>0</td>\n",
       "      <td>0</td>\n",
       "      <td>0</td>\n",
       "      <td>0</td>\n",
       "      <td>0</td>\n",
       "      <td>0</td>\n",
       "      <td>0</td>\n",
       "      <td>0</td>\n",
       "      <td>0</td>\n",
       "      <td>0</td>\n",
       "      <td>0</td>\n",
       "      <td>0</td>\n",
       "      <td>0</td>\n",
       "      <td>0</td>\n",
       "      <td>0</td>\n",
       "      <td>0</td>\n",
       "      <td>0</td>\n",
       "      <td>0</td>\n",
       "      <td>0</td>\n",
       "      <td>0</td>\n",
       "      <td>0</td>\n",
       "      <td>1</td>\n",
       "      <td>0</td>\n",
       "      <td>0</td>\n",
       "      <td>0</td>\n",
       "      <td>0</td>\n",
       "      <td>0</td>\n",
       "      <td>0</td>\n",
       "      <td>0</td>\n",
       "      <td>0</td>\n",
       "      <td>0</td>\n",
       "      <td>0</td>\n",
       "      <td>0</td>\n",
       "      <td>0</td>\n",
       "      <td>0</td>\n",
       "      <td>1</td>\n",
       "      <td>0</td>\n",
       "      <td>1</td>\n",
       "      <td>1</td>\n",
       "      <td>0</td>\n",
       "      <td>0</td>\n",
       "      <td>1</td>\n",
       "      <td>0</td>\n",
       "      <td>0</td>\n",
       "      <td>0</td>\n",
       "      <td>0</td>\n",
       "      <td>0</td>\n",
       "      <td>0</td>\n",
       "      <td>0</td>\n",
       "      <td>0</td>\n",
       "      <td>0</td>\n",
       "      <td>0</td>\n",
       "      <td>0</td>\n",
       "      <td>1</td>\n",
       "      <td>0</td>\n",
       "      <td>0</td>\n",
       "      <td>0</td>\n",
       "    </tr>\n",
       "    <tr>\n",
       "      <th>165633</th>\n",
       "      <td>1.128730</td>\n",
       "      <td>1.067766</td>\n",
       "      <td>-0.039634</td>\n",
       "      <td>1.076723</td>\n",
       "      <td>0</td>\n",
       "      <td>0</td>\n",
       "      <td>0</td>\n",
       "      <td>0</td>\n",
       "      <td>0</td>\n",
       "      <td>0</td>\n",
       "      <td>0</td>\n",
       "      <td>0</td>\n",
       "      <td>0</td>\n",
       "      <td>0</td>\n",
       "      <td>0</td>\n",
       "      <td>0</td>\n",
       "      <td>0</td>\n",
       "      <td>0</td>\n",
       "      <td>0</td>\n",
       "      <td>0</td>\n",
       "      <td>0</td>\n",
       "      <td>0</td>\n",
       "      <td>0</td>\n",
       "      <td>0</td>\n",
       "      <td>0</td>\n",
       "      <td>1</td>\n",
       "      <td>0</td>\n",
       "      <td>0</td>\n",
       "      <td>0</td>\n",
       "      <td>0</td>\n",
       "      <td>0</td>\n",
       "      <td>0</td>\n",
       "      <td>0</td>\n",
       "      <td>0</td>\n",
       "      <td>0</td>\n",
       "      <td>0</td>\n",
       "      <td>0</td>\n",
       "      <td>0</td>\n",
       "      <td>0</td>\n",
       "      <td>1</td>\n",
       "      <td>0</td>\n",
       "      <td>1</td>\n",
       "      <td>1</td>\n",
       "      <td>0</td>\n",
       "      <td>0</td>\n",
       "      <td>1</td>\n",
       "      <td>1</td>\n",
       "      <td>0</td>\n",
       "      <td>0</td>\n",
       "      <td>0</td>\n",
       "      <td>0</td>\n",
       "      <td>0</td>\n",
       "      <td>0</td>\n",
       "      <td>0</td>\n",
       "      <td>0</td>\n",
       "      <td>0</td>\n",
       "      <td>0</td>\n",
       "      <td>0</td>\n",
       "      <td>0</td>\n",
       "      <td>0</td>\n",
       "      <td>0</td>\n",
       "    </tr>\n",
       "    <tr>\n",
       "      <th>157031</th>\n",
       "      <td>-0.877612</td>\n",
       "      <td>-0.910856</td>\n",
       "      <td>-0.032414</td>\n",
       "      <td>-0.909598</td>\n",
       "      <td>0</td>\n",
       "      <td>0</td>\n",
       "      <td>0</td>\n",
       "      <td>0</td>\n",
       "      <td>0</td>\n",
       "      <td>0</td>\n",
       "      <td>0</td>\n",
       "      <td>0</td>\n",
       "      <td>0</td>\n",
       "      <td>0</td>\n",
       "      <td>0</td>\n",
       "      <td>0</td>\n",
       "      <td>0</td>\n",
       "      <td>0</td>\n",
       "      <td>0</td>\n",
       "      <td>0</td>\n",
       "      <td>0</td>\n",
       "      <td>0</td>\n",
       "      <td>0</td>\n",
       "      <td>0</td>\n",
       "      <td>0</td>\n",
       "      <td>1</td>\n",
       "      <td>0</td>\n",
       "      <td>0</td>\n",
       "      <td>0</td>\n",
       "      <td>0</td>\n",
       "      <td>0</td>\n",
       "      <td>0</td>\n",
       "      <td>0</td>\n",
       "      <td>0</td>\n",
       "      <td>0</td>\n",
       "      <td>0</td>\n",
       "      <td>0</td>\n",
       "      <td>0</td>\n",
       "      <td>0</td>\n",
       "      <td>1</td>\n",
       "      <td>0</td>\n",
       "      <td>1</td>\n",
       "      <td>1</td>\n",
       "      <td>0</td>\n",
       "      <td>0</td>\n",
       "      <td>1</td>\n",
       "      <td>0</td>\n",
       "      <td>0</td>\n",
       "      <td>0</td>\n",
       "      <td>0</td>\n",
       "      <td>0</td>\n",
       "      <td>0</td>\n",
       "      <td>1</td>\n",
       "      <td>0</td>\n",
       "      <td>0</td>\n",
       "      <td>0</td>\n",
       "      <td>0</td>\n",
       "      <td>0</td>\n",
       "      <td>0</td>\n",
       "      <td>0</td>\n",
       "      <td>0</td>\n",
       "    </tr>\n",
       "    <tr>\n",
       "      <th>49783</th>\n",
       "      <td>0.181384</td>\n",
       "      <td>0.113233</td>\n",
       "      <td>-0.039209</td>\n",
       "      <td>0.116454</td>\n",
       "      <td>0</td>\n",
       "      <td>0</td>\n",
       "      <td>0</td>\n",
       "      <td>0</td>\n",
       "      <td>0</td>\n",
       "      <td>0</td>\n",
       "      <td>0</td>\n",
       "      <td>0</td>\n",
       "      <td>0</td>\n",
       "      <td>0</td>\n",
       "      <td>0</td>\n",
       "      <td>0</td>\n",
       "      <td>0</td>\n",
       "      <td>0</td>\n",
       "      <td>0</td>\n",
       "      <td>0</td>\n",
       "      <td>0</td>\n",
       "      <td>0</td>\n",
       "      <td>0</td>\n",
       "      <td>0</td>\n",
       "      <td>0</td>\n",
       "      <td>1</td>\n",
       "      <td>0</td>\n",
       "      <td>0</td>\n",
       "      <td>0</td>\n",
       "      <td>0</td>\n",
       "      <td>0</td>\n",
       "      <td>0</td>\n",
       "      <td>0</td>\n",
       "      <td>0</td>\n",
       "      <td>0</td>\n",
       "      <td>0</td>\n",
       "      <td>0</td>\n",
       "      <td>0</td>\n",
       "      <td>0</td>\n",
       "      <td>1</td>\n",
       "      <td>0</td>\n",
       "      <td>1</td>\n",
       "      <td>1</td>\n",
       "      <td>0</td>\n",
       "      <td>0</td>\n",
       "      <td>1</td>\n",
       "      <td>0</td>\n",
       "      <td>1</td>\n",
       "      <td>0</td>\n",
       "      <td>0</td>\n",
       "      <td>0</td>\n",
       "      <td>0</td>\n",
       "      <td>0</td>\n",
       "      <td>0</td>\n",
       "      <td>0</td>\n",
       "      <td>0</td>\n",
       "      <td>0</td>\n",
       "      <td>0</td>\n",
       "      <td>0</td>\n",
       "      <td>0</td>\n",
       "      <td>0</td>\n",
       "    </tr>\n",
       "    <tr>\n",
       "      <th>182749</th>\n",
       "      <td>-0.648533</td>\n",
       "      <td>-0.656351</td>\n",
       "      <td>-0.035812</td>\n",
       "      <td>-0.644543</td>\n",
       "      <td>0</td>\n",
       "      <td>0</td>\n",
       "      <td>0</td>\n",
       "      <td>1</td>\n",
       "      <td>0</td>\n",
       "      <td>0</td>\n",
       "      <td>0</td>\n",
       "      <td>0</td>\n",
       "      <td>0</td>\n",
       "      <td>0</td>\n",
       "      <td>0</td>\n",
       "      <td>0</td>\n",
       "      <td>0</td>\n",
       "      <td>0</td>\n",
       "      <td>0</td>\n",
       "      <td>0</td>\n",
       "      <td>0</td>\n",
       "      <td>0</td>\n",
       "      <td>0</td>\n",
       "      <td>0</td>\n",
       "      <td>0</td>\n",
       "      <td>0</td>\n",
       "      <td>0</td>\n",
       "      <td>1</td>\n",
       "      <td>0</td>\n",
       "      <td>0</td>\n",
       "      <td>0</td>\n",
       "      <td>0</td>\n",
       "      <td>0</td>\n",
       "      <td>0</td>\n",
       "      <td>0</td>\n",
       "      <td>0</td>\n",
       "      <td>0</td>\n",
       "      <td>0</td>\n",
       "      <td>0</td>\n",
       "      <td>0</td>\n",
       "      <td>0</td>\n",
       "      <td>1</td>\n",
       "      <td>0</td>\n",
       "      <td>1</td>\n",
       "      <td>1</td>\n",
       "      <td>0</td>\n",
       "      <td>0</td>\n",
       "      <td>0</td>\n",
       "      <td>0</td>\n",
       "      <td>0</td>\n",
       "      <td>0</td>\n",
       "      <td>0</td>\n",
       "      <td>0</td>\n",
       "      <td>1</td>\n",
       "      <td>0</td>\n",
       "      <td>0</td>\n",
       "      <td>0</td>\n",
       "      <td>0</td>\n",
       "      <td>0</td>\n",
       "      <td>0</td>\n",
       "      <td>0</td>\n",
       "    </tr>\n",
       "  </tbody>\n",
       "</table>\n",
       "</div>"
      ],
      "text/plain": [
       "        created_at  deadline      goal  launched_at  country_AT  country_AU  \\\n",
       "24364    -0.222365 -0.314065 -0.038891    -0.289581           0           0   \n",
       "165633    1.128730  1.067766 -0.039634     1.076723           0           0   \n",
       "157031   -0.877612 -0.910856 -0.032414    -0.909598           0           0   \n",
       "49783     0.181384  0.113233 -0.039209     0.116454           0           0   \n",
       "182749   -0.648533 -0.656351 -0.035812    -0.644543           0           0   \n",
       "\n",
       "        country_BE  country_CA  country_CH  country_DE  country_DK  \\\n",
       "24364            0           0           0           0           0   \n",
       "165633           0           0           0           0           0   \n",
       "157031           0           0           0           0           0   \n",
       "49783            0           0           0           0           0   \n",
       "182749           0           1           0           0           0   \n",
       "\n",
       "        country_ES  country_FR  country_GB  country_HK  country_IE  \\\n",
       "24364            0           0           0           0           0   \n",
       "165633           0           0           0           0           0   \n",
       "157031           0           0           0           0           0   \n",
       "49783            0           0           0           0           0   \n",
       "182749           0           0           0           0           0   \n",
       "\n",
       "        country_IT  country_JP  country_LU  country_MX  country_NL  \\\n",
       "24364            0           0           0           0           0   \n",
       "165633           0           0           0           0           0   \n",
       "157031           0           0           0           0           0   \n",
       "49783            0           0           0           0           0   \n",
       "182749           0           0           0           0           0   \n",
       "\n",
       "        country_NO  country_NZ  country_SE  country_SG  country_US  \\\n",
       "24364            0           0           0           0           1   \n",
       "165633           0           0           0           0           1   \n",
       "157031           0           0           0           0           1   \n",
       "49783            0           0           0           0           1   \n",
       "182749           0           0           0           0           0   \n",
       "\n",
       "        currency_AUD  currency_CAD  currency_CHF  currency_DKK  currency_EUR  \\\n",
       "24364              0             0             0             0             0   \n",
       "165633             0             0             0             0             0   \n",
       "157031             0             0             0             0             0   \n",
       "49783              0             0             0             0             0   \n",
       "182749             0             1             0             0             0   \n",
       "\n",
       "        currency_GBP  currency_HKD  currency_JPY  currency_MXN  currency_NOK  \\\n",
       "24364              0             0             0             0             0   \n",
       "165633             0             0             0             0             0   \n",
       "157031             0             0             0             0             0   \n",
       "49783              0             0             0             0             0   \n",
       "182749             0             0             0             0             0   \n",
       "\n",
       "        currency_NZD  currency_SEK  currency_SGD  currency_USD  \\\n",
       "24364              0             0             0             1   \n",
       "165633             0             0             0             1   \n",
       "157031             0             0             0             1   \n",
       "49783              0             0             0             1   \n",
       "182749             0             0             0             0   \n",
       "\n",
       "        current_currency_CAD  current_currency_USD  staff_pick_False  \\\n",
       "24364                      0                     1                 1   \n",
       "165633                     0                     1                 1   \n",
       "157031                     0                     1                 1   \n",
       "49783                      0                     1                 1   \n",
       "182749                     0                     1                 0   \n",
       "\n",
       "        staff_pick_True  usd_type_domestic  usd_type_international  \\\n",
       "24364                 0                  0                       1   \n",
       "165633                0                  0                       1   \n",
       "157031                0                  0                       1   \n",
       "49783                 0                  0                       1   \n",
       "182749                1                  1                       0   \n",
       "\n",
       "        category_slug_art  category_slug_comics  category_slug_crafts  \\\n",
       "24364                   0                     0                     0   \n",
       "165633                  1                     0                     0   \n",
       "157031                  0                     0                     0   \n",
       "49783                   0                     1                     0   \n",
       "182749                  0                     0                     0   \n",
       "\n",
       "        category_slug_dance  category_slug_design  category_slug_fashion  \\\n",
       "24364                     0                     0                      0   \n",
       "165633                    0                     0                      0   \n",
       "157031                    0                     0                      0   \n",
       "49783                     0                     0                      0   \n",
       "182749                    0                     0                      0   \n",
       "\n",
       "        category_slug_film & video  category_slug_food  category_slug_games  \\\n",
       "24364                            0                   0                    0   \n",
       "165633                           0                   0                    0   \n",
       "157031                           1                   0                    0   \n",
       "49783                            0                   0                    0   \n",
       "182749                           0                   1                    0   \n",
       "\n",
       "        category_slug_journalism  category_slug_music  \\\n",
       "24364                          0                    0   \n",
       "165633                         0                    0   \n",
       "157031                         0                    0   \n",
       "49783                          0                    0   \n",
       "182749                         0                    0   \n",
       "\n",
       "        category_slug_photography  category_slug_publishing  \\\n",
       "24364                           1                         0   \n",
       "165633                          0                         0   \n",
       "157031                          0                         0   \n",
       "49783                           0                         0   \n",
       "182749                          0                         0   \n",
       "\n",
       "        category_slug_technology  category_slug_theater  \n",
       "24364                          0                      0  \n",
       "165633                         0                      0  \n",
       "157031                         0                      0  \n",
       "49783                          0                      0  \n",
       "182749                         0                      0  "
      ]
     },
     "execution_count": 38,
     "metadata": {},
     "output_type": "execute_result"
    }
   ],
   "source": [
    "# Initialize a scaler, then apply it to the features which are numerical and we want to scale \n",
    "num = ['created_at', 'deadline', 'goal', 'launched_at']\n",
    "\n",
    "scaler = StandardScaler()\n",
    "X_train[num] = scaler.fit_transform(X_train[num])\n",
    "X_test[num] = scaler.transform(X_test[num])\n",
    "\n",
    "# Show an example of a record with scaling applied\n",
    "X_train.head()"
   ]
  },
  {
   "cell_type": "markdown",
   "metadata": {},
   "source": [
    "## Creating different Models"
   ]
  },
  {
   "cell_type": "markdown",
   "metadata": {},
   "source": [
    "In this case we have a classification problem, where we want to predict whether a project/campaign on kickstarter will succeed or net.\n",
    "To classify them we will go for following models:\n",
    "\n",
    "1. Decision Tree\n",
    "2. XGBoost\n",
    "3. KNNeighbors \n",
    "4. Random Forest\n",
    "\n",
    "We will try them all and compare them at the end, to show which model performs best.\n",
    "\n",
    "\n"
   ]
  },
  {
   "cell_type": "code",
   "execution_count": 39,
   "metadata": {},
   "outputs": [],
   "source": [
    "#Import relevant classifiers\n",
    "from sklearn.tree import DecisionTreeClassifier\n",
    "from sklearn.neighbors import KNeighborsClassifier\n",
    "from sklearn.ensemble import RandomForestClassifier\n",
    "from sklearn.datasets import make_classification\n",
    "from sklearn.model_selection import cross_val_score\n",
    "import xgboost as xgb"
   ]
  },
  {
   "cell_type": "markdown",
   "metadata": {},
   "source": [
    "## 1. Decision Tree"
   ]
  },
  {
   "cell_type": "code",
   "execution_count": 40,
   "metadata": {},
   "outputs": [
    {
     "data": {
      "text/plain": [
       "DecisionTreeClassifier(random_state=42)"
      ]
     },
     "execution_count": 40,
     "metadata": {},
     "output_type": "execute_result"
    }
   ],
   "source": [
    "dtc = DecisionTreeClassifier(random_state=RSEED)\n",
    "dtc.fit(X_train, y_train, sample_weight=None, check_input=True)"
   ]
  },
  {
   "cell_type": "code",
   "execution_count": 41,
   "metadata": {},
   "outputs": [
    {
     "data": {
      "text/plain": [
       "array([0, 1, 1, ..., 0, 0, 1])"
      ]
     },
     "execution_count": 41,
     "metadata": {},
     "output_type": "execute_result"
    }
   ],
   "source": [
    "#make prediction for classifier above\n",
    "\n",
    "y_pred_dt = dtc.predict(X_test)\n",
    "y_pred_dt"
   ]
  },
  {
   "cell_type": "code",
   "execution_count": 42,
   "metadata": {},
   "outputs": [
    {
     "data": {
      "text/plain": [
       "{'ccp_alpha': 0.0,\n",
       " 'class_weight': None,\n",
       " 'criterion': 'gini',\n",
       " 'max_depth': None,\n",
       " 'max_features': None,\n",
       " 'max_leaf_nodes': None,\n",
       " 'min_impurity_decrease': 0.0,\n",
       " 'min_samples_leaf': 1,\n",
       " 'min_samples_split': 2,\n",
       " 'min_weight_fraction_leaf': 0.0,\n",
       " 'random_state': 42,\n",
       " 'splitter': 'best'}"
      ]
     },
     "execution_count": 42,
     "metadata": {},
     "output_type": "execute_result"
    }
   ],
   "source": [
    "dtc.get_params()"
   ]
  },
  {
   "cell_type": "code",
   "execution_count": 43,
   "metadata": {},
   "outputs": [
    {
     "name": "stdout",
     "output_type": "stream",
     "text": [
      "Best model has the following params:{'criterion': 'entropy', 'max_depth': 3, 'max_leaf_nodes': 5} and the best estimator is:DecisionTreeClassifier(criterion='entropy', max_depth=3, max_leaf_nodes=5,\n",
      "                       random_state=42)\n"
     ]
    }
   ],
   "source": [
    "#to tune our models we have find best parameters with GridSearchCV \n",
    "grid = GridSearchCV(estimator=dtc,\n",
    "        param_grid={\"max_depth\": [2, 3, 4, 5, 6, 8, 10],\n",
    "        'criterion': ['gini','entropy','log_loss'],\n",
    "        'max_leaf_nodes': [2, 3, 4, 5, 6, 8, 10, 12, 14]},\n",
    "        scoring=\"f1\",\n",
    "        cv=3)\n",
    "        \n",
    "grid.fit(X_train, y_train)\n",
    "best_model_dtc = grid.best_estimator_\n",
    "\n",
    "y_pred_dt_gc = best_model_dtc.predict(X_test)\n",
    "\n",
    "print(f\"Best model has the following params:{grid.best_params_} and the best estimator is:{grid.best_estimator_}\")"
   ]
  },
  {
   "cell_type": "markdown",
   "metadata": {},
   "source": [
    "## XGboost Classifier"
   ]
  },
  {
   "cell_type": "code",
   "execution_count": 44,
   "metadata": {},
   "outputs": [],
   "source": [
    "boost = xgb.XGBClassifier(random_state=RSEED)\n",
    "model_xgboost= boost.fit(X_train,y_train)"
   ]
  },
  {
   "cell_type": "code",
   "execution_count": 45,
   "metadata": {},
   "outputs": [
    {
     "data": {
      "text/plain": [
       "array([1, 1, 1, ..., 0, 0, 0])"
      ]
     },
     "execution_count": 45,
     "metadata": {},
     "output_type": "execute_result"
    }
   ],
   "source": [
    "#make prediction for classifier above\n",
    "\n",
    "y_pred_boost = boost.predict(X_test)\n",
    "y_pred_boost"
   ]
  },
  {
   "cell_type": "code",
   "execution_count": 46,
   "metadata": {},
   "outputs": [
    {
     "data": {
      "text/plain": [
       "<bound method XGBModel.get_params of XGBClassifier(base_score=0.5, booster='gbtree', callbacks=None,\n",
       "              colsample_bylevel=1, colsample_bynode=1, colsample_bytree=1,\n",
       "              early_stopping_rounds=None, enable_categorical=False,\n",
       "              eval_metric=None, feature_types=None, gamma=0, gpu_id=-1,\n",
       "              grow_policy='depthwise', importance_type=None,\n",
       "              interaction_constraints='', learning_rate=0.300000012,\n",
       "              max_bin=256, max_cat_threshold=64, max_cat_to_onehot=4,\n",
       "              max_delta_step=0, max_depth=6, max_leaves=0, min_child_weight=1,\n",
       "              missing=nan, monotone_constraints='()', n_estimators=100,\n",
       "              n_jobs=0, num_parallel_tree=1, predictor='auto', random_state=42, ...)>"
      ]
     },
     "execution_count": 46,
     "metadata": {},
     "output_type": "execute_result"
    }
   ],
   "source": [
    "boost.get_params"
   ]
  },
  {
   "cell_type": "code",
   "execution_count": 47,
   "metadata": {},
   "outputs": [
    {
     "name": "stdout",
     "output_type": "stream",
     "text": [
      "Best model has the following params:{'base_score': 0.5, 'learning_rate': 0.1, 'max_depth': 8, 'n_estimators': 200} and the best estimator is:XGBClassifier(base_score=0.5, booster='gbtree', callbacks=None,\n",
      "              colsample_bylevel=1, colsample_bynode=1, colsample_bytree=1,\n",
      "              early_stopping_rounds=None, enable_categorical=False,\n",
      "              eval_metric=None, feature_types=None, gamma=0, gpu_id=-1,\n",
      "              grow_policy='depthwise', importance_type=None,\n",
      "              interaction_constraints='', learning_rate=0.1, max_bin=256,\n",
      "              max_cat_threshold=64, max_cat_to_onehot=4, max_delta_step=0,\n",
      "              max_depth=8, max_leaves=0, min_child_weight=1, missing=nan,\n",
      "              monotone_constraints='()', n_estimators=200, n_jobs=0,\n",
      "              num_parallel_tree=1, predictor='auto', random_state=42, ...)\n"
     ]
    }
   ],
   "source": [
    "#to tune our models we have find best parameters with GridSearchCV \n",
    "grid = GridSearchCV(estimator=boost,\n",
    "        param_grid={\"base_score\": [0.3,0.5,0.6],\n",
    "        'learning_rate': [0.1, 1, 10],\n",
    "        'max_depth': [2, 4, 6, 8],\n",
    "        'n_estimators': [50, 100, 200]},\n",
    "        scoring=\"f1\",\n",
    "        cv=3)\n",
    "        \n",
    "grid.fit(X_train, y_train)\n",
    "best_model_boost = grid.best_estimator_\n",
    "\n",
    "y_pred_boost_gc = best_model_boost.predict(X_test)\n",
    "\n",
    "print(f\"Best model has the following params:{grid.best_params_} and the best estimator is:{grid.best_estimator_}\")"
   ]
  },
  {
   "cell_type": "markdown",
   "metadata": {},
   "source": [
    "## KNeighbors"
   ]
  },
  {
   "cell_type": "code",
   "execution_count": 48,
   "metadata": {},
   "outputs": [
    {
     "data": {
      "text/plain": [
       "KNeighborsClassifier(n_neighbors=3)"
      ]
     },
     "execution_count": 48,
     "metadata": {},
     "output_type": "execute_result"
    }
   ],
   "source": [
    "neigh = KNeighborsClassifier(n_neighbors=3)\n",
    "neigh.fit(X_train, y_train)"
   ]
  },
  {
   "cell_type": "code",
   "execution_count": 49,
   "metadata": {},
   "outputs": [
    {
     "data": {
      "text/plain": [
       "array([1, 0, 1, ..., 0, 0, 0])"
      ]
     },
     "execution_count": 49,
     "metadata": {},
     "output_type": "execute_result"
    }
   ],
   "source": [
    "#make prediction for classifier above\n",
    "\n",
    "y_pred_neigh = neigh.predict(X_test)\n",
    "y_pred_neigh"
   ]
  },
  {
   "cell_type": "code",
   "execution_count": 50,
   "metadata": {},
   "outputs": [
    {
     "data": {
      "text/plain": [
       "<bound method BaseEstimator.get_params of KNeighborsClassifier(n_neighbors=3)>"
      ]
     },
     "execution_count": 50,
     "metadata": {},
     "output_type": "execute_result"
    }
   ],
   "source": [
    "neigh.get_params"
   ]
  },
  {
   "cell_type": "code",
   "execution_count": 51,
   "metadata": {},
   "outputs": [
    {
     "data": {
      "text/plain": [
       "'grid = GridSearchCV(estimator=neigh,\\n        param_grid={\"n_neighbors\": [2, 3, 4, 5, 6, 10, 12],\\n        \\'weights\\': [\\'uniform\\',\\'distance\\'],\\n        \\'metric\\': [\\'euclidean\\',\\'manhattan\\',\\'minkowski\\']},\\n        scoring=\"f1\",\\n        cv=3)\\n        \\ngrid.fit(X_train, y_train)\\nbest_model_neigh = grid.best_estimator_\\n\\ny_pred_neigh_gc = best_model_neigh.predict(X_test)\\n\\nprint(f\"Best model has the following params:{grid.best_params_} and the best estimator is:{grid.best_estimator_}\")\\n'"
      ]
     },
     "execution_count": 51,
     "metadata": {},
     "output_type": "execute_result"
    }
   ],
   "source": [
    "#to tune our models we have find best parameters with GridSearchCV \n",
    "'''grid = GridSearchCV(estimator=neigh,\n",
    "        param_grid={\"n_neighbors\": [2, 3, 4, 5, 6, 10, 12],\n",
    "        'weights': ['uniform','distance'],\n",
    "        'metric': ['euclidean','manhattan','minkowski']},\n",
    "        scoring=\"f1\",\n",
    "        cv=3)\n",
    "        \n",
    "grid.fit(X_train, y_train)\n",
    "best_model_neigh = grid.best_estimator_\n",
    "\n",
    "y_pred_neigh_gc = best_model_neigh.predict(X_test)\n",
    "\n",
    "print(f\"Best model has the following params:{grid.best_params_} and the best estimator is:{grid.best_estimator_}\")\n",
    "'''"
   ]
  },
  {
   "cell_type": "markdown",
   "metadata": {},
   "source": [
    "## Random Forest Classifier"
   ]
  },
  {
   "cell_type": "code",
   "execution_count": 52,
   "metadata": {},
   "outputs": [
    {
     "data": {
      "text/plain": [
       "RandomForestClassifier(random_state=42)"
      ]
     },
     "execution_count": 52,
     "metadata": {},
     "output_type": "execute_result"
    }
   ],
   "source": [
    "forest = RandomForestClassifier(random_state=RSEED)\n",
    "forest.fit(X_train,y_train)"
   ]
  },
  {
   "cell_type": "code",
   "execution_count": 53,
   "metadata": {},
   "outputs": [
    {
     "data": {
      "text/plain": [
       "array([1, 1, 1, ..., 0, 0, 0])"
      ]
     },
     "execution_count": 53,
     "metadata": {},
     "output_type": "execute_result"
    }
   ],
   "source": [
    "#make prediction for classifier above\n",
    "\n",
    "y_pred_forest = forest.predict(X_test)\n",
    "y_pred_forest"
   ]
  },
  {
   "cell_type": "code",
   "execution_count": 54,
   "metadata": {},
   "outputs": [
    {
     "data": {
      "text/plain": [
       "<bound method BaseEstimator.get_params of RandomForestClassifier(random_state=42)>"
      ]
     },
     "execution_count": 54,
     "metadata": {},
     "output_type": "execute_result"
    }
   ],
   "source": [
    "forest.get_params"
   ]
  },
  {
   "cell_type": "code",
   "execution_count": 55,
   "metadata": {},
   "outputs": [
    {
     "name": "stdout",
     "output_type": "stream",
     "text": [
      "Best model has the following params:{'max_depth': 8, 'max_leaf_nodes': 12, 'n_estimators': 200} and the best estimator is:RandomForestClassifier(max_depth=8, max_leaf_nodes=12, n_estimators=200,\n",
      "                       random_state=42)\n"
     ]
    }
   ],
   "source": [
    "#to tune our models we have find best parameters with GridSearchCV \n",
    "grid = GridSearchCV(estimator=forest,\n",
    "        param_grid={'max_depth': [2, 4, 6, 8],\n",
    "        'n_estimators': [50, 100, 200],\n",
    "        'max_leaf_nodes': [2, 4, 6, 9, 12]},\n",
    "        scoring=\"f1\",\n",
    "        cv=3)\n",
    "        \n",
    "grid.fit(X_train, y_train)\n",
    "best_model_forest = grid.best_estimator_\n",
    "\n",
    "y_pred_forest_gc = best_model_forest.predict(X_test)\n",
    "\n",
    "print(f\"Best model has the following params:{grid.best_params_} and the best estimator is:{grid.best_estimator_}\")"
   ]
  },
  {
   "cell_type": "markdown",
   "metadata": {},
   "source": [
    "## First evaluation of the models"
   ]
  },
  {
   "cell_type": "markdown",
   "metadata": {},
   "source": [
    "blabla"
   ]
  },
  {
   "cell_type": "code",
   "execution_count": 56,
   "metadata": {},
   "outputs": [
    {
     "name": "stdout",
     "output_type": "stream",
     "text": [
      "---------------------------------------------\n",
      "Classification report\n",
      "---------------------------------------------\n",
      "              precision    recall  f1-score   support\n",
      "\n",
      "           0       0.78      0.25      0.37     24816\n",
      "           1       0.66      0.95      0.78     38764\n",
      "\n",
      "    accuracy                           0.68     63580\n",
      "   macro avg       0.72      0.60      0.58     63580\n",
      "weighted avg       0.71      0.68      0.62     63580\n",
      "\n",
      "---------------------------------------------\n",
      "Confusion matrix\n",
      "---------------------------------------------\n",
      "[[ 6128 18688]\n",
      " [ 1775 36989]]\n"
     ]
    },
    {
     "data": {
      "image/png": "[encoded data removed]",
      "text/plain": [
       "<Figure size 640x480 with 2 Axes>"
      ]
     },
     "metadata": {},
     "output_type": "display_data"
    }
   ],
   "source": [
    "#Evaluation of the Decision tree classifier\n",
    "print('---------------------------------------------')\n",
    "print('Classification report')\n",
    "print('---------------------------------------------')\n",
    "\n",
    "#built classification report\n",
    "clr = classification_report(y_test,y_pred_dt_gc)\n",
    "\n",
    "print(clr)\n",
    "print('---------------------------------------------')\n",
    "print('Confusion matrix')\n",
    "print('---------------------------------------------')\n",
    "\n",
    "# building confusion matrix\n",
    "cfm = confusion_matrix(y_test,y_pred_dt_gc)\n",
    "\n",
    "print(cfm)\n",
    "\n",
    "group_names = ['True Neg','False Pos','False Neg','True Pos']\n",
    "group_counts = ['{0:0.0f}'.format(value) for value in\n",
    "                cfm.flatten()]\n",
    "group_percentages = ['{0:.2%}'.format(value) for value in\n",
    "                     cfm.flatten()/np.sum(cfm)]\n",
    "labels = [f'{v1}\\n{v2}\\n{v3}' for v1, v2, v3 in\n",
    "          zip(group_names,group_counts,group_percentages)]\n",
    "labels = np.asarray(labels).reshape(2,2)\n",
    "\n",
    "sns.heatmap(cfm, annot=labels, fmt='', cmap='Blues',linewidths = 1)\n",
    "plt.xlabel('Predicted values',fontsize=12)\n",
    "plt.ylabel('Actual values',fontsize=12)\n",
    "plt.title('-Kickstarter Success-',fontsize=12)\n",
    "plt.show()"
   ]
  },
  {
   "cell_type": "code",
   "execution_count": 57,
   "metadata": {},
   "outputs": [
    {
     "name": "stdout",
     "output_type": "stream",
     "text": [
      "---------------------------------------------\n",
      "Classification report\n",
      "---------------------------------------------\n",
      "              precision    recall  f1-score   support\n",
      "\n",
      "           0       0.73      0.70      0.72     24816\n",
      "           1       0.81      0.84      0.83     38764\n",
      "\n",
      "    accuracy                           0.78     63580\n",
      "   macro avg       0.77      0.77      0.77     63580\n",
      "weighted avg       0.78      0.78      0.78     63580\n",
      "\n",
      "---------------------------------------------\n",
      "Confusion matrix\n",
      "---------------------------------------------\n",
      "[[17364  7452]\n",
      " [ 6306 32458]]\n"
     ]
    },
    {
     "data": {
      "image/png": "[encoded data removed]",
      "text/plain": [
       "<Figure size 640x480 with 2 Axes>"
      ]
     },
     "metadata": {},
     "output_type": "display_data"
    }
   ],
   "source": [
    "#Evaluation of the XGboost classifier\n",
    "print('---------------------------------------------')\n",
    "print('Classification report')\n",
    "print('---------------------------------------------')\n",
    "\n",
    "#built classification report\n",
    "clr = classification_report(y_test,y_pred_boost_gc)\n",
    "\n",
    "print(clr)\n",
    "print('---------------------------------------------')\n",
    "print('Confusion matrix')\n",
    "print('---------------------------------------------')\n",
    "\n",
    "# building confusion matrix\n",
    "cfm = confusion_matrix(y_test,y_pred_boost_gc)\n",
    "\n",
    "print(cfm)\n",
    "\n",
    "group_names = ['True Neg','False Pos','False Neg','True Pos']\n",
    "group_counts = ['{0:0.0f}'.format(value) for value in\n",
    "                cfm.flatten()]\n",
    "group_percentages = ['{0:.2%}'.format(value) for value in\n",
    "                     cfm.flatten()/np.sum(cfm)]\n",
    "labels = [f'{v1}\\n{v2}\\n{v3}' for v1, v2, v3 in\n",
    "          zip(group_names,group_counts,group_percentages)]\n",
    "labels = np.asarray(labels).reshape(2,2)\n",
    "\n",
    "sns.heatmap(cfm, annot=labels, fmt='', cmap='Blues',linewidths = 1)\n",
    "plt.xlabel('Predicted values',fontsize=12)\n",
    "plt.ylabel('Actual values',fontsize=12)\n",
    "plt.title('-Kickstarter Success-',fontsize=12)\n",
    "plt.show()"
   ]
  },
  {
   "cell_type": "code",
   "execution_count": 58,
   "metadata": {},
   "outputs": [
    {
     "name": "stdout",
     "output_type": "stream",
     "text": [
      "---------------------------------------------\n",
      "Classification report\n",
      "---------------------------------------------\n",
      "              precision    recall  f1-score   support\n",
      "\n",
      "           0       0.66      0.62      0.64     24816\n",
      "           1       0.77      0.80      0.78     38764\n",
      "\n",
      "    accuracy                           0.73     63580\n",
      "   macro avg       0.71      0.71      0.71     63580\n",
      "weighted avg       0.72      0.73      0.73     63580\n",
      "\n",
      "---------------------------------------------\n",
      "Confusion matrix\n",
      "---------------------------------------------\n",
      "[[15358  9458]\n",
      " [ 7866 30898]]\n"
     ]
    },
    {
     "data": {
      "image/png": "[encoded data removed]",
      "text/plain": [
       "<Figure size 640x480 with 2 Axes>"
      ]
     },
     "metadata": {},
     "output_type": "display_data"
    }
   ],
   "source": [
    "#Evaluation of the KNeighbors classifier\n",
    "print('---------------------------------------------')\n",
    "print('Classification report')\n",
    "print('---------------------------------------------')\n",
    "\n",
    "#built classification report\n",
    "clr = classification_report(y_test,y_pred_neigh)\n",
    "\n",
    "print(clr)\n",
    "print('---------------------------------------------')\n",
    "print('Confusion matrix')\n",
    "print('---------------------------------------------')\n",
    "\n",
    "# building confusion matrix\n",
    "cfm = confusion_matrix(y_test,y_pred_neigh)\n",
    "\n",
    "print(cfm)\n",
    "\n",
    "group_names = ['True Neg','False Pos','False Neg','True Pos']\n",
    "group_counts = ['{0:0.0f}'.format(value) for value in\n",
    "                cfm.flatten()]\n",
    "group_percentages = ['{0:.2%}'.format(value) for value in\n",
    "                     cfm.flatten()/np.sum(cfm)]\n",
    "labels = [f'{v1}\\n{v2}\\n{v3}' for v1, v2, v3 in\n",
    "          zip(group_names,group_counts,group_percentages)]\n",
    "labels = np.asarray(labels).reshape(2,2)\n",
    "\n",
    "sns.heatmap(cfm, annot=labels, fmt='', cmap='Blues',linewidths = 1)\n",
    "plt.xlabel('Predicted values',fontsize=12)\n",
    "plt.ylabel('Actual values',fontsize=12)\n",
    "plt.title('-Kickstarter Success-',fontsize=12)\n",
    "plt.show()"
   ]
  },
  {
   "cell_type": "code",
   "execution_count": 59,
   "metadata": {},
   "outputs": [
    {
     "name": "stdout",
     "output_type": "stream",
     "text": [
      "---------------------------------------------\n",
      "Classification report\n",
      "---------------------------------------------\n",
      "              precision    recall  f1-score   support\n",
      "\n",
      "           0       0.74      0.42      0.54     24816\n",
      "           1       0.71      0.90      0.79     38764\n",
      "\n",
      "    accuracy                           0.71     63580\n",
      "   macro avg       0.72      0.66      0.66     63580\n",
      "weighted avg       0.72      0.71      0.69     63580\n",
      "\n",
      "---------------------------------------------\n",
      "Confusion matrix\n",
      "---------------------------------------------\n",
      "[[10440 14376]\n",
      " [ 3748 35016]]\n"
     ]
    },
    {
     "data": {
      "image/png": "[encoded data removed]",
      "text/plain": [
       "<Figure size 640x480 with 2 Axes>"
      ]
     },
     "metadata": {},
     "output_type": "display_data"
    }
   ],
   "source": [
    "#Evaluation of the RandomForest classifier\n",
    "print('---------------------------------------------')\n",
    "print('Classification report')\n",
    "print('---------------------------------------------')\n",
    "\n",
    "#built classification report\n",
    "clr = classification_report(y_test,y_pred_forest_gc)\n",
    "\n",
    "print(clr)\n",
    "print('---------------------------------------------')\n",
    "print('Confusion matrix')\n",
    "print('---------------------------------------------')\n",
    "\n",
    "# building confusion matrix\n",
    "cfm = confusion_matrix(y_test,y_pred_forest_gc)\n",
    "\n",
    "print(cfm)\n",
    "\n",
    "group_names = ['True Neg','False Pos','False Neg','True Pos']\n",
    "group_counts = ['{0:0.0f}'.format(value) for value in\n",
    "                cfm.flatten()]\n",
    "group_percentages = ['{0:.2%}'.format(value) for value in\n",
    "                     cfm.flatten()/np.sum(cfm)]\n",
    "labels = [f'{v1}\\n{v2}\\n{v3}' for v1, v2, v3 in\n",
    "          zip(group_names,group_counts,group_percentages)]\n",
    "labels = np.asarray(labels).reshape(2,2)\n",
    "\n",
    "sns.heatmap(cfm, annot=labels, fmt='', cmap='Blues',linewidths = 1)\n",
    "plt.xlabel('Predicted values',fontsize=12)\n",
    "plt.ylabel('Actual values',fontsize=12)\n",
    "plt.title('-Kickstarter Success-',fontsize=12)\n",
    "plt.show()"
   ]
  },
  {
   "cell_type": "code",
   "execution_count": 60,
   "metadata": {},
   "outputs": [
    {
     "data": {
      "image/png": "[encoded data removed]",
      "text/plain": [
       "<Figure size 640x480 with 1 Axes>"
      ]
     },
     "metadata": {},
     "output_type": "display_data"
    }
   ],
   "source": [
    "#show the importance of features for xgboost classifier\n",
    "plot_importance(model_boost)\n",
    "pyplot.show()"
   ]
  },
  {
   "cell_type": "markdown",
   "metadata": {},
   "source": [
    "## Voting classifier out of all models"
   ]
  },
  {
   "cell_type": "markdown",
   "metadata": {},
   "source": [
    "With this voting we can compare all our models an tak the best one for our prediction"
   ]
  },
  {
   "cell_type": "code",
   "execution_count": 64,
   "metadata": {},
   "outputs": [],
   "source": [
    "model_vote = VotingClassifier(estimators = [('xgb', best_model_boost), ('knn', neigh), ('dt', best_model_dtc), ('rf', best_model_forest)], voting = 'hard')\n",
    "model_vote.fit(X_train,y_train)\n",
    "model_vote.score(X_test,y_test)\n",
    "y_pred_vote = model_vote.predict(X_test)"
   ]
  },
  {
   "cell_type": "code",
   "execution_count": 68,
   "metadata": {},
   "outputs": [
    {
     "name": "stdout",
     "output_type": "stream",
     "text": [
      "---------------------------------------------\n",
      "Classification report\n",
      "---------------------------------------------\n",
      "              precision    recall  f1-score   support\n",
      "\n",
      "           0       0.74      0.63      0.68     24816\n",
      "           1       0.78      0.86      0.82     38764\n",
      "\n",
      "    accuracy                           0.77     63580\n",
      "   macro avg       0.76      0.74      0.75     63580\n",
      "weighted avg       0.76      0.77      0.76     63580\n",
      "\n",
      "---------------------------------------------\n",
      "Confusion matrix\n",
      "---------------------------------------------\n",
      "[[15513  9303]\n",
      " [ 5496 33268]]\n"
     ]
    },
    {
     "data": {
      "image/png": "[encoded data removed]",
      "text/plain": [
       "<Figure size 640x480 with 2 Axes>"
      ]
     },
     "metadata": {},
     "output_type": "display_data"
    }
   ],
   "source": [
    "#Evaluation of the RandomForest classifier\n",
    "print('---------------------------------------------')\n",
    "print('Classification report')\n",
    "print('---------------------------------------------')\n",
    "\n",
    "#built classification report\n",
    "clr = classification_report(y_test,y_pred_vote)\n",
    "\n",
    "print(clr)\n",
    "print('---------------------------------------------')\n",
    "print('Confusion matrix')\n",
    "print('---------------------------------------------')\n",
    "\n",
    "# building confusion matrix\n",
    "cfm = confusion_matrix(y_test,y_pred_vote)\n",
    "\n",
    "print(cfm)\n",
    "\n",
    "group_names = ['True Neg','False Pos','False Neg','True Pos']\n",
    "group_counts = ['{0:0.0f}'.format(value) for value in\n",
    "                cfm.flatten()]\n",
    "group_percentages = ['{0:.2%}'.format(value) for value in\n",
    "                     cfm.flatten()/np.sum(cfm)]\n",
    "labels = [f'{v1}\\n{v2}\\n{v3}' for v1, v2, v3 in\n",
    "          zip(group_names,group_counts,group_percentages)]\n",
    "labels = np.asarray(labels).reshape(2,2)\n",
    "\n",
    "sns.heatmap(cfm, annot=labels, fmt='', cmap='Blues',linewidths = 1)\n",
    "plt.xlabel('Predicted values',fontsize=12)\n",
    "plt.ylabel('Actual values',fontsize=12)\n",
    "plt.title('-Kickstarter Success-',fontsize=12)\n",
    "plt.show()"
   ]
  }
 ],
 "metadata": {
  "kernelspec": {
   "display_name": "Python 3.9.8 ('.venv': venv)",
   "language": "python",
   "name": "python3"
  },
  "language_info": {
   "codemirror_mode": {
    "name": "ipython",
    "version": 3
   },
   "file_extension": ".py",
   "mimetype": "text/x-python",
   "name": "python",
   "nbconvert_exporter": "python",
   "pygments_lexer": "ipython3",
   "version": "3.9.8"
  },
  "orig_nbformat": 4,
  "vscode": {
   "interpreter": {
    "hash": "01e13ab10663ea37e6e56f99fbae5953ee3dc40fddf5c949a428508c3837ac1f"
   }
  }
 },
 "nbformat": 4,
 "nbformat_minor": 2
}
