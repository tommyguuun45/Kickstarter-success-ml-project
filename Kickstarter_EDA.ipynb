{
 "cells": [
  {
   "cell_type": "code",
   "execution_count": 52,
   "metadata": {},
   "outputs": [],
   "source": [
    "import seaborn as sns\n",
    "import pandas as pd\n",
    "import numpy as np\n",
    "import matplotlib.pyplot as plt\n",
    "from matplotlib import pyplot\n",
    "from xgboost import plot_importance\n",
    "\n",
    "\n",
    "from sklearn.model_selection import train_test_split\n",
    "from sklearn.metrics import classification_report, confusion_matrix\n",
    "\n",
    "import warnings\n",
    "warnings.filterwarnings('ignore')\n",
    "\n",
    "RSEED = 42\n"
   ]
  },
  {
   "cell_type": "code",
   "execution_count": 2,
   "metadata": {},
   "outputs": [
    {
     "name": "stdout",
     "output_type": "stream",
     "text": [
      "aiohttp==3.8.3\n",
      "aiosignal==1.3.1\n",
      "altair==4.1.0\n",
      "anyio==3.6.2\n",
      "appnope==0.1.3\n",
      "argon2-cffi==21.3.0\n",
      "argon2-cffi-bindings==21.2.0\n",
      "asttokens==2.1.0\n",
      "async-timeout==4.0.2\n",
      "attrs==22.1.0\n",
      "Babel==2.11.0\n",
      "backcall==0.2.0\n",
      "beautifulsoup4==4.11.1\n",
      "bleach==5.0.1\n",
      "certifi==2022.9.24\n",
      "cffi==1.15.1\n",
      "charset-normalizer==2.1.1\n",
      "click==8.1.3\n",
      "cycler==0.11.0\n",
      "dash==2.7.0\n",
      "dash-core-components==2.0.0\n",
      "dash-html-components==2.0.0\n",
      "dash-table==5.0.0\n",
      "debugpy==1.6.3\n",
      "decorator==5.1.1\n",
      "defusedxml==0.7.1\n",
      "entrypoints==0.4\n",
      "executing==1.2.0\n",
      "fastjsonschema==2.16.2\n",
      "Flask==2.2.2\n",
      "fonttools==4.38.0\n",
      "frozenlist==1.3.3\n",
      "idna==3.4\n",
      "importlib-metadata==5.0.0\n",
      "iniconfig==1.1.1\n",
      "ipykernel==6.17.1\n",
      "ipython==8.6.0\n",
      "ipython-genutils==0.2.0\n",
      "ipywidgets==7.6.5\n",
      "itsdangerous==2.1.2\n",
      "jedi==0.18.2\n",
      "Jinja2==3.1.2\n",
      "joblib==1.2.0\n",
      "json5==0.9.10\n",
      "jsonschema==4.17.1\n",
      "jupyter-server==1.23.3\n",
      "jupyter-server-proxy==3.2.2\n",
      "jupyter_client==7.4.7\n",
      "jupyter_core==5.0.0\n",
      "jupyterlab==3.2.5\n",
      "jupyterlab-dash==0.1.0a3\n",
      "jupyterlab-pygments==0.2.2\n",
      "jupyterlab-widgets==3.0.3\n",
      "jupyterlab_server==2.16.3\n",
      "kiwisolver==1.4.4\n",
      "MarkupSafe==2.1.1\n",
      "matplotlib==3.5.1\n",
      "matplotlib-inline==0.1.6\n",
      "mistune==2.0.4\n",
      "multidict==6.0.2\n",
      "nbclassic==0.4.8\n",
      "nbclient==0.7.0\n",
      "nbconvert==7.2.5\n",
      "nbformat==5.7.0\n",
      "nest-asyncio==1.5.6\n",
      "notebook==6.5.2\n",
      "notebook_shim==0.2.2\n",
      "numpy==1.22.0\n",
      "packaging==21.3\n",
      "pandas==1.3.5\n",
      "pandocfilters==1.5.0\n",
      "parso==0.8.3\n",
      "patsy==0.5.3\n",
      "pexpect==4.8.0\n",
      "pickleshare==0.7.5\n",
      "Pillow==9.3.0\n",
      "platformdirs==2.5.4\n",
      "plotly==5.11.0\n",
      "pluggy==1.0.0\n",
      "prometheus-client==0.15.0\n",
      "prompt-toolkit==3.0.33\n",
      "psutil==5.9.4\n",
      "ptyprocess==0.7.0\n",
      "pure-eval==0.2.2\n",
      "py==1.11.0\n",
      "pycparser==2.21\n",
      "Pygments==2.13.0\n",
      "pyparsing==3.0.9\n",
      "pyrsistent==0.19.2\n",
      "pytest==7.0.1\n",
      "python-dateutil==2.8.2\n",
      "pytz==2022.6\n",
      "pyzmq==24.0.1\n",
      "requests==2.28.1\n",
      "scikit-learn==1.0.2\n",
      "scipy==1.9.3\n",
      "seaborn==0.11.2\n",
      "Send2Trash==1.8.0\n",
      "simpervisor==0.4\n",
      "six==1.16.0\n",
      "sniffio==1.3.0\n",
      "soupsieve==2.3.2.post1\n",
      "stack-data==0.6.1\n",
      "statsmodels==0.13.1\n",
      "tenacity==8.1.0\n",
      "terminado==0.17.0\n",
      "threadpoolctl==3.1.0\n",
      "tinycss2==1.2.1\n",
      "tomli==2.0.1\n",
      "toolz==0.12.0\n",
      "tornado==6.2\n",
      "traitlets==5.5.0\n",
      "urllib3==1.26.13\n",
      "wcwidth==0.2.5\n",
      "webencodings==0.5.1\n",
      "websocket-client==1.4.2\n",
      "Werkzeug==2.2.2\n",
      "widgetsnbextension==3.5.2\n",
      "xgboost==1.7.1\n",
      "yarl==1.8.1\n",
      "zipp==3.10.0\n",
      "Note: you may need to restart the kernel to use updated packages.\n"
     ]
    }
   ],
   "source": [
    "pip freeze"
   ]
  },
  {
   "cell_type": "code",
   "execution_count": 3,
   "metadata": {},
   "outputs": [],
   "source": [
    "\n",
    "import glob\n",
    "import os\n",
    "\n",
    "path = r'data/' # use your path\n",
    "all_files = glob.glob(os.path.join(path , \"*.csv\"))\n",
    "\n",
    "li = []\n",
    "\n",
    "for filename in all_files:\n",
    "    df = pd.read_csv(filename, index_col=None, header=0)\n",
    "    li.append(df)\n",
    "df = pd.concat(li, axis=0, ignore_index=True)\n"
   ]
  },
  {
   "cell_type": "markdown",
   "metadata": {},
   "source": [
    "## EDA"
   ]
  },
  {
   "cell_type": "markdown",
   "metadata": {},
   "source": [
    "## Description of the clomns"
   ]
  },
  {
   "cell_type": "markdown",
   "metadata": {},
   "source": [
    "# Columns \n",
    "'backers_count', \n",
    "'blurb', 'category', 'converted_pledged_amount',\n",
    "       'country', 'created_at', 'creator', 'currency', 'currency_symbol',\n",
    "       'currency_trailing_code', 'current_currency', 'deadline',\n",
    "       'disable_communication', 'friends', 'fx_rate', 'goal', 'id',\n",
    "       'is_backing', 'is_starrable', 'is_starred', 'launched_at', 'location',\n",
    "       'name', 'permissions', 'photo', 'pledged', 'profile', 'slug',\n",
    "       'source_url', 'spotlight', 'staff_pick', 'state', 'state_changed_at',\n",
    "       'static_usd_rate', 'urls', 'usd_pledged', 'usd_type'],\n",
    "      dtype='object')"
   ]
  },
  {
   "cell_type": "code",
   "execution_count": 4,
   "metadata": {},
   "outputs": [
    {
     "data": {
      "text/plain": [
       "Index(['backers_count', 'blurb', 'category', 'converted_pledged_amount',\n",
       "       'country', 'created_at', 'creator', 'currency', 'currency_symbol',\n",
       "       'currency_trailing_code', 'current_currency', 'deadline',\n",
       "       'disable_communication', 'friends', 'fx_rate', 'goal', 'id',\n",
       "       'is_backing', 'is_starrable', 'is_starred', 'launched_at', 'location',\n",
       "       'name', 'permissions', 'photo', 'pledged', 'profile', 'slug',\n",
       "       'source_url', 'spotlight', 'staff_pick', 'state', 'state_changed_at',\n",
       "       'static_usd_rate', 'urls', 'usd_pledged', 'usd_type'],\n",
       "      dtype='object')"
      ]
     },
     "execution_count": 4,
     "metadata": {},
     "output_type": "execute_result"
    }
   ],
   "source": [
    "df.columns"
   ]
  },
  {
   "cell_type": "code",
   "execution_count": 5,
   "metadata": {},
   "outputs": [
    {
     "data": {
      "text/html": [
       "<div>\n",
       "<style scoped>\n",
       "    .dataframe tbody tr th:only-of-type {\n",
       "        vertical-align: middle;\n",
       "    }\n",
       "\n",
       "    .dataframe tbody tr th {\n",
       "        vertical-align: top;\n",
       "    }\n",
       "\n",
       "    .dataframe thead th {\n",
       "        text-align: right;\n",
       "    }\n",
       "</style>\n",
       "<table border=\"1\" class=\"dataframe\">\n",
       "  <thead>\n",
       "    <tr style=\"text-align: right;\">\n",
       "      <th></th>\n",
       "      <th>backers_count</th>\n",
       "      <th>blurb</th>\n",
       "      <th>category</th>\n",
       "      <th>converted_pledged_amount</th>\n",
       "      <th>country</th>\n",
       "      <th>created_at</th>\n",
       "      <th>creator</th>\n",
       "      <th>currency</th>\n",
       "      <th>currency_symbol</th>\n",
       "      <th>currency_trailing_code</th>\n",
       "      <th>...</th>\n",
       "      <th>slug</th>\n",
       "      <th>source_url</th>\n",
       "      <th>spotlight</th>\n",
       "      <th>staff_pick</th>\n",
       "      <th>state</th>\n",
       "      <th>state_changed_at</th>\n",
       "      <th>static_usd_rate</th>\n",
       "      <th>urls</th>\n",
       "      <th>usd_pledged</th>\n",
       "      <th>usd_type</th>\n",
       "    </tr>\n",
       "  </thead>\n",
       "  <tbody>\n",
       "    <tr>\n",
       "      <th>0</th>\n",
       "      <td>315</td>\n",
       "      <td>Babalus Shoes</td>\n",
       "      <td>{\"id\":266,\"name\":\"Footwear\",\"slug\":\"fashion/fo...</td>\n",
       "      <td>28645</td>\n",
       "      <td>US</td>\n",
       "      <td>1541459205</td>\n",
       "      <td>{\"id\":2094277840,\"name\":\"Lucy Conroy\",\"slug\":\"...</td>\n",
       "      <td>USD</td>\n",
       "      <td>$</td>\n",
       "      <td>True</td>\n",
       "      <td>...</td>\n",
       "      <td>babalus-childrens-shoes</td>\n",
       "      <td>https://www.kickstarter.com/discover/categorie...</td>\n",
       "      <td>False</td>\n",
       "      <td>False</td>\n",
       "      <td>live</td>\n",
       "      <td>1548223375</td>\n",
       "      <td>1.000000</td>\n",
       "      <td>{\"web\":{\"project\":\"https://www.kickstarter.com...</td>\n",
       "      <td>28645.000000</td>\n",
       "      <td>international</td>\n",
       "    </tr>\n",
       "    <tr>\n",
       "      <th>1</th>\n",
       "      <td>47</td>\n",
       "      <td>A colorful Dia de los Muertos themed oracle de...</td>\n",
       "      <td>{\"id\":273,\"name\":\"Playing Cards\",\"slug\":\"games...</td>\n",
       "      <td>1950</td>\n",
       "      <td>US</td>\n",
       "      <td>1501684093</td>\n",
       "      <td>{\"id\":723886115,\"name\":\"Lisa Vollrath\",\"slug\":...</td>\n",
       "      <td>USD</td>\n",
       "      <td>$</td>\n",
       "      <td>True</td>\n",
       "      <td>...</td>\n",
       "      <td>the-ofrenda-oracle-deck</td>\n",
       "      <td>https://www.kickstarter.com/discover/categorie...</td>\n",
       "      <td>True</td>\n",
       "      <td>False</td>\n",
       "      <td>successful</td>\n",
       "      <td>1504976459</td>\n",
       "      <td>1.000000</td>\n",
       "      <td>{\"web\":{\"project\":\"https://www.kickstarter.com...</td>\n",
       "      <td>1950.000000</td>\n",
       "      <td>domestic</td>\n",
       "    </tr>\n",
       "    <tr>\n",
       "      <th>2</th>\n",
       "      <td>271</td>\n",
       "      <td>Electra's long awaited, eclectic Debut Pop/Roc...</td>\n",
       "      <td>{\"id\":43,\"name\":\"Rock\",\"slug\":\"music/rock\",\"po...</td>\n",
       "      <td>22404</td>\n",
       "      <td>US</td>\n",
       "      <td>1348987533</td>\n",
       "      <td>{\"id\":323849677,\"name\":\"Electra\",\"is_registere...</td>\n",
       "      <td>USD</td>\n",
       "      <td>$</td>\n",
       "      <td>True</td>\n",
       "      <td>...</td>\n",
       "      <td>record-electras-debut-album-pop-rock-classical</td>\n",
       "      <td>https://www.kickstarter.com/discover/categorie...</td>\n",
       "      <td>True</td>\n",
       "      <td>False</td>\n",
       "      <td>successful</td>\n",
       "      <td>1371013395</td>\n",
       "      <td>1.000000</td>\n",
       "      <td>{\"web\":{\"project\":\"https://www.kickstarter.com...</td>\n",
       "      <td>22404.000000</td>\n",
       "      <td>international</td>\n",
       "    </tr>\n",
       "    <tr>\n",
       "      <th>3</th>\n",
       "      <td>3</td>\n",
       "      <td>The Mist of Tribunal is a turn-based card game...</td>\n",
       "      <td>{\"id\":273,\"name\":\"Playing Cards\",\"slug\":\"games...</td>\n",
       "      <td>165</td>\n",
       "      <td>GB</td>\n",
       "      <td>1483780271</td>\n",
       "      <td>{\"id\":196281496,\"name\":\"Artur Ordijanc (delete...</td>\n",
       "      <td>GBP</td>\n",
       "      <td>£</td>\n",
       "      <td>False</td>\n",
       "      <td>...</td>\n",
       "      <td>the-mist-of-tribunal-a-card-game</td>\n",
       "      <td>https://www.kickstarter.com/discover/categorie...</td>\n",
       "      <td>False</td>\n",
       "      <td>False</td>\n",
       "      <td>failed</td>\n",
       "      <td>1489425776</td>\n",
       "      <td>1.216066</td>\n",
       "      <td>{\"web\":{\"project\":\"https://www.kickstarter.com...</td>\n",
       "      <td>165.384934</td>\n",
       "      <td>domestic</td>\n",
       "    </tr>\n",
       "    <tr>\n",
       "      <th>4</th>\n",
       "      <td>3</td>\n",
       "      <td>Livng with a brain impairment, what its like t...</td>\n",
       "      <td>{\"id\":48,\"name\":\"Nonfiction\",\"slug\":\"publishin...</td>\n",
       "      <td>2820</td>\n",
       "      <td>US</td>\n",
       "      <td>1354817071</td>\n",
       "      <td>{\"id\":1178460181,\"name\":\"Dawn Johnston\",\"is_re...</td>\n",
       "      <td>USD</td>\n",
       "      <td>$</td>\n",
       "      <td>True</td>\n",
       "      <td>...</td>\n",
       "      <td>help-change-the-face-of-brain-impairment</td>\n",
       "      <td>https://www.kickstarter.com/discover/categorie...</td>\n",
       "      <td>True</td>\n",
       "      <td>False</td>\n",
       "      <td>successful</td>\n",
       "      <td>1357763527</td>\n",
       "      <td>1.000000</td>\n",
       "      <td>{\"web\":{\"project\":\"https://www.kickstarter.com...</td>\n",
       "      <td>2820.000000</td>\n",
       "      <td>domestic</td>\n",
       "    </tr>\n",
       "  </tbody>\n",
       "</table>\n",
       "<p>5 rows × 37 columns</p>\n",
       "</div>"
      ],
      "text/plain": [
       "   backers_count                                              blurb  \\\n",
       "0            315                                      Babalus Shoes   \n",
       "1             47  A colorful Dia de los Muertos themed oracle de...   \n",
       "2            271  Electra's long awaited, eclectic Debut Pop/Roc...   \n",
       "3              3  The Mist of Tribunal is a turn-based card game...   \n",
       "4              3  Livng with a brain impairment, what its like t...   \n",
       "\n",
       "                                            category  \\\n",
       "0  {\"id\":266,\"name\":\"Footwear\",\"slug\":\"fashion/fo...   \n",
       "1  {\"id\":273,\"name\":\"Playing Cards\",\"slug\":\"games...   \n",
       "2  {\"id\":43,\"name\":\"Rock\",\"slug\":\"music/rock\",\"po...   \n",
       "3  {\"id\":273,\"name\":\"Playing Cards\",\"slug\":\"games...   \n",
       "4  {\"id\":48,\"name\":\"Nonfiction\",\"slug\":\"publishin...   \n",
       "\n",
       "   converted_pledged_amount country  created_at  \\\n",
       "0                     28645      US  1541459205   \n",
       "1                      1950      US  1501684093   \n",
       "2                     22404      US  1348987533   \n",
       "3                       165      GB  1483780271   \n",
       "4                      2820      US  1354817071   \n",
       "\n",
       "                                             creator currency currency_symbol  \\\n",
       "0  {\"id\":2094277840,\"name\":\"Lucy Conroy\",\"slug\":\"...      USD               $   \n",
       "1  {\"id\":723886115,\"name\":\"Lisa Vollrath\",\"slug\":...      USD               $   \n",
       "2  {\"id\":323849677,\"name\":\"Electra\",\"is_registere...      USD               $   \n",
       "3  {\"id\":196281496,\"name\":\"Artur Ordijanc (delete...      GBP               £   \n",
       "4  {\"id\":1178460181,\"name\":\"Dawn Johnston\",\"is_re...      USD               $   \n",
       "\n",
       "   currency_trailing_code  ...  \\\n",
       "0                    True  ...   \n",
       "1                    True  ...   \n",
       "2                    True  ...   \n",
       "3                   False  ...   \n",
       "4                    True  ...   \n",
       "\n",
       "                                             slug  \\\n",
       "0                         babalus-childrens-shoes   \n",
       "1                         the-ofrenda-oracle-deck   \n",
       "2  record-electras-debut-album-pop-rock-classical   \n",
       "3                the-mist-of-tribunal-a-card-game   \n",
       "4        help-change-the-face-of-brain-impairment   \n",
       "\n",
       "                                          source_url  spotlight staff_pick  \\\n",
       "0  https://www.kickstarter.com/discover/categorie...      False      False   \n",
       "1  https://www.kickstarter.com/discover/categorie...       True      False   \n",
       "2  https://www.kickstarter.com/discover/categorie...       True      False   \n",
       "3  https://www.kickstarter.com/discover/categorie...      False      False   \n",
       "4  https://www.kickstarter.com/discover/categorie...       True      False   \n",
       "\n",
       "        state  state_changed_at  static_usd_rate  \\\n",
       "0        live        1548223375         1.000000   \n",
       "1  successful        1504976459         1.000000   \n",
       "2  successful        1371013395         1.000000   \n",
       "3      failed        1489425776         1.216066   \n",
       "4  successful        1357763527         1.000000   \n",
       "\n",
       "                                                urls   usd_pledged  \\\n",
       "0  {\"web\":{\"project\":\"https://www.kickstarter.com...  28645.000000   \n",
       "1  {\"web\":{\"project\":\"https://www.kickstarter.com...   1950.000000   \n",
       "2  {\"web\":{\"project\":\"https://www.kickstarter.com...  22404.000000   \n",
       "3  {\"web\":{\"project\":\"https://www.kickstarter.com...    165.384934   \n",
       "4  {\"web\":{\"project\":\"https://www.kickstarter.com...   2820.000000   \n",
       "\n",
       "        usd_type  \n",
       "0  international  \n",
       "1       domestic  \n",
       "2  international  \n",
       "3       domestic  \n",
       "4       domestic  \n",
       "\n",
       "[5 rows x 37 columns]"
      ]
     },
     "execution_count": 5,
     "metadata": {},
     "output_type": "execute_result"
    }
   ],
   "source": [
    "df.head()"
   ]
  },
  {
   "cell_type": "code",
   "execution_count": 6,
   "metadata": {},
   "outputs": [
    {
     "name": "stdout",
     "output_type": "stream",
     "text": [
      "<class 'pandas.core.frame.DataFrame'>\n",
      "RangeIndex: 209222 entries, 0 to 209221\n",
      "Data columns (total 37 columns):\n",
      " #   Column                    Non-Null Count   Dtype  \n",
      "---  ------                    --------------   -----  \n",
      " 0   backers_count             209222 non-null  int64  \n",
      " 1   blurb                     209214 non-null  object \n",
      " 2   category                  209222 non-null  object \n",
      " 3   converted_pledged_amount  209222 non-null  int64  \n",
      " 4   country                   209222 non-null  object \n",
      " 5   created_at                209222 non-null  int64  \n",
      " 6   creator                   209222 non-null  object \n",
      " 7   currency                  209222 non-null  object \n",
      " 8   currency_symbol           209222 non-null  object \n",
      " 9   currency_trailing_code    209222 non-null  bool   \n",
      " 10  current_currency          209222 non-null  object \n",
      " 11  deadline                  209222 non-null  int64  \n",
      " 12  disable_communication     209222 non-null  bool   \n",
      " 13  friends                   300 non-null     object \n",
      " 14  fx_rate                   209222 non-null  float64\n",
      " 15  goal                      209222 non-null  float64\n",
      " 16  id                        209222 non-null  int64  \n",
      " 17  is_backing                300 non-null     object \n",
      " 18  is_starrable              209222 non-null  bool   \n",
      " 19  is_starred                300 non-null     object \n",
      " 20  launched_at               209222 non-null  int64  \n",
      " 21  location                  208996 non-null  object \n",
      " 22  name                      209222 non-null  object \n",
      " 23  permissions               300 non-null     object \n",
      " 24  photo                     209222 non-null  object \n",
      " 25  pledged                   209222 non-null  float64\n",
      " 26  profile                   209222 non-null  object \n",
      " 27  slug                      209222 non-null  object \n",
      " 28  source_url                209222 non-null  object \n",
      " 29  spotlight                 209222 non-null  bool   \n",
      " 30  staff_pick                209222 non-null  bool   \n",
      " 31  state                     209222 non-null  object \n",
      " 32  state_changed_at          209222 non-null  int64  \n",
      " 33  static_usd_rate           209222 non-null  float64\n",
      " 34  urls                      209222 non-null  object \n",
      " 35  usd_pledged               209222 non-null  float64\n",
      " 36  usd_type                  208742 non-null  object \n",
      "dtypes: bool(5), float64(5), int64(7), object(20)\n",
      "memory usage: 52.1+ MB\n"
     ]
    }
   ],
   "source": [
    "df.info()"
   ]
  },
  {
   "cell_type": "markdown",
   "metadata": {},
   "source": [
    "\n",
    "# candidates columns to be deleted:\n",
    "> *blurb* : only non qualitativ descriptive information about the project \n",
    "\n",
    "> *category*: we keep it for future model processing. The values of this column are dictionary packed as string. It dosen't provide us directly with a quantitative value. Later may be we extract some usefull numerical information from it. \n",
    "\n",
    "> *creators* : same reasons as for categories  \n",
    "\n",
    "> *currency_symbol*\n",
    "\n",
    "> *currency_trailing_code*\n",
    "\n",
    "> *slug*\n",
    "\n",
    "> *source_url*\n",
    "\n",
    "> *spotlight*\n",
    "\n",
    "> *state_usd_rate*\n",
    "\n",
    "> *urls*\n",
    "\n",
    "> *friends* : it contains just NaN and \"[ ]\".\n",
    "\n",
    "> *fx_rate* \n",
    "\n",
    "> *id*\n",
    "\n",
    "> *is_starred*\n",
    "\n",
    "> *is_backing*\n",
    "\n",
    "> *location*\n",
    "\n",
    "> *permissions*\n",
    "\n",
    "> *photo*\n",
    "\n",
    "> *pledged*\n",
    "\n",
    "> *name*\n",
    "\n",
    "> *profile*\n",
    "\n",
    "# candidates for dummies\n",
    "> *country*\n",
    "\n",
    "> *currency*\n",
    "# candidate for type-transformation\n",
    "\n",
    "> *created_at* we want to have a DateTime type!\n",
    "\n",
    "> *statechange_at* we want to have a DateTime datatype!\n",
    "\n",
    "> *launched_at*\n",
    "\n",
    "# *Target* : state"
   ]
  },
  {
   "cell_type": "markdown",
   "metadata": {},
   "source": [
    "As we see in the foolowing code the currency, currency_symbol and currency_trailing_code are completly correlated. So we can delete two of them."
   ]
  },
  {
   "cell_type": "code",
   "execution_count": 7,
   "metadata": {},
   "outputs": [
    {
     "data": {
      "text/plain": [
       "0"
      ]
     },
     "execution_count": 7,
     "metadata": {},
     "output_type": "execute_result"
    }
   ],
   "source": [
    "# in this code we show that all currencies not US dollars have a False value for currency_trailing_code variable.\n",
    "len(df[(df['currency_symbol']=='€') & (df['currency_trailing_code']==True)])"
   ]
  },
  {
   "cell_type": "code",
   "execution_count": 8,
   "metadata": {},
   "outputs": [
    {
     "data": {
      "text/plain": [
       "117465"
      ]
     },
     "execution_count": 8,
     "metadata": {},
     "output_type": "execute_result"
    }
   ],
   "source": [
    "# in this code we show that all currencies not US dollars have a False value for currency_trailing_code variable.\n",
    "len(df[(df['friends'].isnull()) & (df['state']==\"successful\")])"
   ]
  },
  {
   "cell_type": "markdown",
   "metadata": {},
   "source": [
    "Here we delete the clomuns we don't need!"
   ]
  },
  {
   "cell_type": "code",
   "execution_count": 9,
   "metadata": {},
   "outputs": [],
   "source": [
    "# in this cell we delete the unwanted columns!\n",
    "df_1= df.drop(['blurb', 'category', 'creator', 'currency_symbol',\n",
    "       'currency_trailing_code', 'friends', 'fx_rate', 'id',\n",
    "       'is_backing', 'is_starred', 'location',\n",
    "       'name', 'permissions', 'photo', 'pledged', 'profile', 'slug',\n",
    "       'source_url', 'spotlight',\n",
    "       'static_usd_rate', 'urls'], axis=1)"
   ]
  },
  {
   "cell_type": "code",
   "execution_count": 10,
   "metadata": {},
   "outputs": [],
   "source": [
    "# we change the type of columns \"crerated_at\", \"launched_at\", \"deadline\" and \"state_changed_at\". \n",
    "# We note that the unit of this columns is Second!\n",
    "#df_1[[\"created_at\", \"launched_at\", \"deadline\", \"state_changed_at\"]] = df_1[[\"created_at\", \"launched_at\", \"deadline\", \"state_changed_at\"]].apply(pd.to_datetime, unit='s')"
   ]
  },
  {
   "cell_type": "code",
   "execution_count": 11,
   "metadata": {},
   "outputs": [],
   "source": [
    "#we want to extract day, month and your out of the data and store them in different columns\n",
    "#df_1['created_at_year'] = df_1['created_at'].dt.year\n",
    "#df_1['created_at_month'] = df_1['created_at'].dt.month\n",
    "#df_1['created_at_day'] = df_1['created_at'].dt.day"
   ]
  },
  {
   "cell_type": "code",
   "execution_count": 12,
   "metadata": {},
   "outputs": [
    {
     "data": {
      "text/html": [
       "<div>\n",
       "<style scoped>\n",
       "    .dataframe tbody tr th:only-of-type {\n",
       "        vertical-align: middle;\n",
       "    }\n",
       "\n",
       "    .dataframe tbody tr th {\n",
       "        vertical-align: top;\n",
       "    }\n",
       "\n",
       "    .dataframe thead th {\n",
       "        text-align: right;\n",
       "    }\n",
       "</style>\n",
       "<table border=\"1\" class=\"dataframe\">\n",
       "  <thead>\n",
       "    <tr style=\"text-align: right;\">\n",
       "      <th></th>\n",
       "      <th>backers_count</th>\n",
       "      <th>converted_pledged_amount</th>\n",
       "      <th>country</th>\n",
       "      <th>created_at</th>\n",
       "      <th>currency</th>\n",
       "      <th>current_currency</th>\n",
       "      <th>deadline</th>\n",
       "      <th>disable_communication</th>\n",
       "      <th>goal</th>\n",
       "      <th>is_starrable</th>\n",
       "      <th>launched_at</th>\n",
       "      <th>staff_pick</th>\n",
       "      <th>state</th>\n",
       "      <th>state_changed_at</th>\n",
       "      <th>usd_pledged</th>\n",
       "      <th>usd_type</th>\n",
       "    </tr>\n",
       "  </thead>\n",
       "  <tbody>\n",
       "    <tr>\n",
       "      <th>0</th>\n",
       "      <td>315</td>\n",
       "      <td>28645</td>\n",
       "      <td>US</td>\n",
       "      <td>1541459205</td>\n",
       "      <td>USD</td>\n",
       "      <td>USD</td>\n",
       "      <td>1552539775</td>\n",
       "      <td>False</td>\n",
       "      <td>28000.0</td>\n",
       "      <td>False</td>\n",
       "      <td>1548223375</td>\n",
       "      <td>False</td>\n",
       "      <td>live</td>\n",
       "      <td>1548223375</td>\n",
       "      <td>28645.0</td>\n",
       "      <td>international</td>\n",
       "    </tr>\n",
       "    <tr>\n",
       "      <th>1</th>\n",
       "      <td>47</td>\n",
       "      <td>1950</td>\n",
       "      <td>US</td>\n",
       "      <td>1501684093</td>\n",
       "      <td>USD</td>\n",
       "      <td>USD</td>\n",
       "      <td>1504976459</td>\n",
       "      <td>False</td>\n",
       "      <td>1000.0</td>\n",
       "      <td>False</td>\n",
       "      <td>1502384459</td>\n",
       "      <td>False</td>\n",
       "      <td>successful</td>\n",
       "      <td>1504976459</td>\n",
       "      <td>1950.0</td>\n",
       "      <td>domestic</td>\n",
       "    </tr>\n",
       "  </tbody>\n",
       "</table>\n",
       "</div>"
      ],
      "text/plain": [
       "   backers_count  converted_pledged_amount country  created_at currency  \\\n",
       "0            315                     28645      US  1541459205      USD   \n",
       "1             47                      1950      US  1501684093      USD   \n",
       "\n",
       "  current_currency    deadline  disable_communication     goal  is_starrable  \\\n",
       "0              USD  1552539775                  False  28000.0         False   \n",
       "1              USD  1504976459                  False   1000.0         False   \n",
       "\n",
       "   launched_at  staff_pick       state  state_changed_at  usd_pledged  \\\n",
       "0   1548223375       False        live        1548223375      28645.0   \n",
       "1   1502384459       False  successful        1504976459       1950.0   \n",
       "\n",
       "        usd_type  \n",
       "0  international  \n",
       "1       domestic  "
      ]
     },
     "execution_count": 12,
     "metadata": {},
     "output_type": "execute_result"
    }
   ],
   "source": [
    "df_1.head(2)"
   ]
  },
  {
   "cell_type": "code",
   "execution_count": 13,
   "metadata": {},
   "outputs": [],
   "source": [
    "# In this cell we delete all rows of the dataframe with the state value of \"live\". \n",
    "# Because this rows do not tell us an thing about the succeed of the project.\n",
    "\n",
    "df_1 = df_1[(df_1.state != \"live\")] \n",
    "df_1 = df_1[(df_1.state != \"canceled\")] \n",
    "df_1 = df_1[(df_1.state != \"suspended\")] \n",
    "\n",
    "#df_1 = df_1.drop(df_1[(df_1.state== \"live\") & (df_1.state==\"suspended\") & (df_1.state==\"canceled\")].index)\n"
   ]
  },
  {
   "cell_type": "code",
   "execution_count": 14,
   "metadata": {},
   "outputs": [],
   "source": [
    "# Now we replace \"successful\" and \"failed\" with \"1\" and \"o respectively\". These are the values of our target column.\n",
    "df_1[\"state\"] = df_1[\"state\"].replace([\"successful\", \"failed\"], [1, 0])"
   ]
  },
  {
   "cell_type": "code",
   "execution_count": 15,
   "metadata": {},
   "outputs": [],
   "source": [
    "# we round the values of usd_pledged and goal\n",
    "df_1[[\"goal\",\"usd_pledged\"]]=df_1[[\"goal\",\"usd_pledged\"]].round(0)"
   ]
  },
  {
   "cell_type": "code",
   "execution_count": 16,
   "metadata": {},
   "outputs": [],
   "source": [
    "# we reset the index!\n",
    "df_1 = df_1.reset_index(drop=True)"
   ]
  },
  {
   "cell_type": "code",
   "execution_count": 17,
   "metadata": {},
   "outputs": [],
   "source": [
    "# "
   ]
  },
  {
   "cell_type": "code",
   "execution_count": 18,
   "metadata": {},
   "outputs": [
    {
     "data": {
      "text/plain": [
       "backers_count                 3206\n",
       "converted_pledged_amount     30787\n",
       "country                         22\n",
       "created_at                  168890\n",
       "currency                        14\n",
       "current_currency                 2\n",
       "deadline                    158484\n",
       "disable_communication            1\n",
       "goal                          4804\n",
       "is_starrable                     1\n",
       "launched_at                 168847\n",
       "staff_pick                       2\n",
       "state                            2\n",
       "state_changed_at            158780\n",
       "usd_pledged                  30775\n",
       "usd_type                         2\n",
       "dtype: int64"
      ]
     },
     "execution_count": 18,
     "metadata": {},
     "output_type": "execute_result"
    }
   ],
   "source": [
    "df_1.nunique()"
   ]
  },
  {
   "cell_type": "code",
   "execution_count": 19,
   "metadata": {},
   "outputs": [],
   "source": [
    "# As we see in the table above the features \"disable_communication\" and \"is_starrable\" just take one single value,\n",
    "# meanings that they constant. Therefor they do npot provide us with any new insight into the data. \n",
    "# Therefore we delete the corresponding columns.\n",
    "df_1= df_1.drop([\"disable_communication\", \"is_starrable\"], axis=1)"
   ]
  },
  {
   "cell_type": "code",
   "execution_count": 20,
   "metadata": {},
   "outputs": [
    {
     "data": {
      "text/plain": [
       "backers_count                 3206\n",
       "converted_pledged_amount     30787\n",
       "country                         22\n",
       "created_at                  168890\n",
       "currency                        14\n",
       "current_currency                 2\n",
       "deadline                    158484\n",
       "goal                          4804\n",
       "launched_at                 168847\n",
       "staff_pick                       2\n",
       "state                            2\n",
       "state_changed_at            158780\n",
       "usd_pledged                  30775\n",
       "usd_type                         2\n",
       "dtype: int64"
      ]
     },
     "execution_count": 20,
     "metadata": {},
     "output_type": "execute_result"
    }
   ],
   "source": [
    "df_1.nunique()"
   ]
  },
  {
   "cell_type": "markdown",
   "metadata": {},
   "source": [
    "--- May be we should remove the \"country from dummie-list\"---"
   ]
  },
  {
   "cell_type": "code",
   "execution_count": 21,
   "metadata": {},
   "outputs": [
    {
     "data": {
      "text/plain": [
       "\"\\nfrom sklearn.preprocessing import OneHotEncoder\\nfrom sklearn.compose import make_column_transformer\\nfrom seaborn import load_dataset\\n\\ntransformer = make_column_transformer(\\n    (OneHotEncoder(), ['country']),\\n    remainder='passthrough')\\n\\ntransformed = transformer.fit_transform(df_1)\\ntransformed_df = pd.DataFrame(\\n    transformed, \\n    columns=transformer.get_feature_names()\\n)\\n\""
      ]
     },
     "execution_count": 21,
     "metadata": {},
     "output_type": "execute_result"
    }
   ],
   "source": [
    "# In this cell we convert all categorical variable in dummies, so we can work in models.\n",
    "df_2 = pd.get_dummies(df_1, columns=[\"country\", \"currency\", \"current_currency\", \"staff_pick\", \"usd_type\"])\n",
    "# Here is an alternative approach\n",
    "# Using make_column_transformer to One-Hot Encode\n",
    "'''\n",
    "from sklearn.preprocessing import OneHotEncoder\n",
    "from sklearn.compose import make_column_transformer\n",
    "from seaborn import load_dataset\n",
    "\n",
    "transformer = make_column_transformer(\n",
    "    (OneHotEncoder(), ['country']),\n",
    "    remainder='passthrough')\n",
    "\n",
    "transformed = transformer.fit_transform(df_1)\n",
    "transformed_df = pd.DataFrame(\n",
    "    transformed, \n",
    "    columns=transformer.get_feature_names()\n",
    ")\n",
    "'''"
   ]
  },
  {
   "cell_type": "code",
   "execution_count": 22,
   "metadata": {},
   "outputs": [
    {
     "data": {
      "text/html": [
       "<div>\n",
       "<style scoped>\n",
       "    .dataframe tbody tr th:only-of-type {\n",
       "        vertical-align: middle;\n",
       "    }\n",
       "\n",
       "    .dataframe tbody tr th {\n",
       "        vertical-align: top;\n",
       "    }\n",
       "\n",
       "    .dataframe thead th {\n",
       "        text-align: right;\n",
       "    }\n",
       "</style>\n",
       "<table border=\"1\" class=\"dataframe\">\n",
       "  <thead>\n",
       "    <tr style=\"text-align: right;\">\n",
       "      <th></th>\n",
       "      <th>backers_count</th>\n",
       "      <th>converted_pledged_amount</th>\n",
       "      <th>created_at</th>\n",
       "      <th>deadline</th>\n",
       "      <th>goal</th>\n",
       "      <th>launched_at</th>\n",
       "      <th>state</th>\n",
       "      <th>state_changed_at</th>\n",
       "      <th>usd_pledged</th>\n",
       "      <th>country_AT</th>\n",
       "      <th>...</th>\n",
       "      <th>currency_NZD</th>\n",
       "      <th>currency_SEK</th>\n",
       "      <th>currency_SGD</th>\n",
       "      <th>currency_USD</th>\n",
       "      <th>current_currency_CAD</th>\n",
       "      <th>current_currency_USD</th>\n",
       "      <th>staff_pick_False</th>\n",
       "      <th>staff_pick_True</th>\n",
       "      <th>usd_type_domestic</th>\n",
       "      <th>usd_type_international</th>\n",
       "    </tr>\n",
       "  </thead>\n",
       "  <tbody>\n",
       "    <tr>\n",
       "      <th>0</th>\n",
       "      <td>47</td>\n",
       "      <td>1950</td>\n",
       "      <td>1501684093</td>\n",
       "      <td>1504976459</td>\n",
       "      <td>1000.0</td>\n",
       "      <td>1502384459</td>\n",
       "      <td>1</td>\n",
       "      <td>1504976459</td>\n",
       "      <td>1950.0</td>\n",
       "      <td>0</td>\n",
       "      <td>...</td>\n",
       "      <td>0</td>\n",
       "      <td>0</td>\n",
       "      <td>0</td>\n",
       "      <td>1</td>\n",
       "      <td>0</td>\n",
       "      <td>1</td>\n",
       "      <td>1</td>\n",
       "      <td>0</td>\n",
       "      <td>1</td>\n",
       "      <td>0</td>\n",
       "    </tr>\n",
       "    <tr>\n",
       "      <th>1</th>\n",
       "      <td>271</td>\n",
       "      <td>22404</td>\n",
       "      <td>1348987533</td>\n",
       "      <td>1371013395</td>\n",
       "      <td>15000.0</td>\n",
       "      <td>1368421395</td>\n",
       "      <td>1</td>\n",
       "      <td>1371013395</td>\n",
       "      <td>22404.0</td>\n",
       "      <td>0</td>\n",
       "      <td>...</td>\n",
       "      <td>0</td>\n",
       "      <td>0</td>\n",
       "      <td>0</td>\n",
       "      <td>1</td>\n",
       "      <td>0</td>\n",
       "      <td>1</td>\n",
       "      <td>1</td>\n",
       "      <td>0</td>\n",
       "      <td>0</td>\n",
       "      <td>1</td>\n",
       "    </tr>\n",
       "    <tr>\n",
       "      <th>2</th>\n",
       "      <td>3</td>\n",
       "      <td>165</td>\n",
       "      <td>1483780271</td>\n",
       "      <td>1489425776</td>\n",
       "      <td>10000.0</td>\n",
       "      <td>1484245376</td>\n",
       "      <td>0</td>\n",
       "      <td>1489425776</td>\n",
       "      <td>165.0</td>\n",
       "      <td>0</td>\n",
       "      <td>...</td>\n",
       "      <td>0</td>\n",
       "      <td>0</td>\n",
       "      <td>0</td>\n",
       "      <td>0</td>\n",
       "      <td>0</td>\n",
       "      <td>1</td>\n",
       "      <td>1</td>\n",
       "      <td>0</td>\n",
       "      <td>1</td>\n",
       "      <td>0</td>\n",
       "    </tr>\n",
       "    <tr>\n",
       "      <th>3</th>\n",
       "      <td>3</td>\n",
       "      <td>2820</td>\n",
       "      <td>1354817071</td>\n",
       "      <td>1357763527</td>\n",
       "      <td>2800.0</td>\n",
       "      <td>1355171527</td>\n",
       "      <td>1</td>\n",
       "      <td>1357763527</td>\n",
       "      <td>2820.0</td>\n",
       "      <td>0</td>\n",
       "      <td>...</td>\n",
       "      <td>0</td>\n",
       "      <td>0</td>\n",
       "      <td>0</td>\n",
       "      <td>1</td>\n",
       "      <td>0</td>\n",
       "      <td>1</td>\n",
       "      <td>1</td>\n",
       "      <td>0</td>\n",
       "      <td>1</td>\n",
       "      <td>0</td>\n",
       "    </tr>\n",
       "    <tr>\n",
       "      <th>4</th>\n",
       "      <td>35</td>\n",
       "      <td>3725</td>\n",
       "      <td>1414172150</td>\n",
       "      <td>1430533546</td>\n",
       "      <td>3500.0</td>\n",
       "      <td>1427941546</td>\n",
       "      <td>1</td>\n",
       "      <td>1430533546</td>\n",
       "      <td>3725.0</td>\n",
       "      <td>0</td>\n",
       "      <td>...</td>\n",
       "      <td>0</td>\n",
       "      <td>0</td>\n",
       "      <td>0</td>\n",
       "      <td>1</td>\n",
       "      <td>0</td>\n",
       "      <td>1</td>\n",
       "      <td>1</td>\n",
       "      <td>0</td>\n",
       "      <td>1</td>\n",
       "      <td>0</td>\n",
       "    </tr>\n",
       "    <tr>\n",
       "      <th>...</th>\n",
       "      <td>...</td>\n",
       "      <td>...</td>\n",
       "      <td>...</td>\n",
       "      <td>...</td>\n",
       "      <td>...</td>\n",
       "      <td>...</td>\n",
       "      <td>...</td>\n",
       "      <td>...</td>\n",
       "      <td>...</td>\n",
       "      <td>...</td>\n",
       "      <td>...</td>\n",
       "      <td>...</td>\n",
       "      <td>...</td>\n",
       "      <td>...</td>\n",
       "      <td>...</td>\n",
       "      <td>...</td>\n",
       "      <td>...</td>\n",
       "      <td>...</td>\n",
       "      <td>...</td>\n",
       "      <td>...</td>\n",
       "      <td>...</td>\n",
       "    </tr>\n",
       "    <tr>\n",
       "      <th>192659</th>\n",
       "      <td>341</td>\n",
       "      <td>8924</td>\n",
       "      <td>1543286891</td>\n",
       "      <td>1544589900</td>\n",
       "      <td>1500.0</td>\n",
       "      <td>1543358312</td>\n",
       "      <td>1</td>\n",
       "      <td>1544589901</td>\n",
       "      <td>8924.0</td>\n",
       "      <td>0</td>\n",
       "      <td>...</td>\n",
       "      <td>0</td>\n",
       "      <td>0</td>\n",
       "      <td>0</td>\n",
       "      <td>1</td>\n",
       "      <td>0</td>\n",
       "      <td>1</td>\n",
       "      <td>1</td>\n",
       "      <td>0</td>\n",
       "      <td>0</td>\n",
       "      <td>1</td>\n",
       "    </tr>\n",
       "    <tr>\n",
       "      <th>192660</th>\n",
       "      <td>72</td>\n",
       "      <td>5710</td>\n",
       "      <td>1493041572</td>\n",
       "      <td>1497909600</td>\n",
       "      <td>5000.0</td>\n",
       "      <td>1494782514</td>\n",
       "      <td>1</td>\n",
       "      <td>1497909600</td>\n",
       "      <td>5576.0</td>\n",
       "      <td>0</td>\n",
       "      <td>...</td>\n",
       "      <td>0</td>\n",
       "      <td>0</td>\n",
       "      <td>0</td>\n",
       "      <td>0</td>\n",
       "      <td>0</td>\n",
       "      <td>1</td>\n",
       "      <td>1</td>\n",
       "      <td>0</td>\n",
       "      <td>1</td>\n",
       "      <td>0</td>\n",
       "    </tr>\n",
       "    <tr>\n",
       "      <th>192661</th>\n",
       "      <td>62</td>\n",
       "      <td>2681</td>\n",
       "      <td>1341343795</td>\n",
       "      <td>1347854340</td>\n",
       "      <td>2500.0</td>\n",
       "      <td>1344976590</td>\n",
       "      <td>1</td>\n",
       "      <td>1347854341</td>\n",
       "      <td>2681.0</td>\n",
       "      <td>0</td>\n",
       "      <td>...</td>\n",
       "      <td>0</td>\n",
       "      <td>0</td>\n",
       "      <td>0</td>\n",
       "      <td>1</td>\n",
       "      <td>0</td>\n",
       "      <td>1</td>\n",
       "      <td>1</td>\n",
       "      <td>0</td>\n",
       "      <td>0</td>\n",
       "      <td>1</td>\n",
       "    </tr>\n",
       "    <tr>\n",
       "      <th>192662</th>\n",
       "      <td>76</td>\n",
       "      <td>5692</td>\n",
       "      <td>1425256957</td>\n",
       "      <td>1429536375</td>\n",
       "      <td>5500.0</td>\n",
       "      <td>1426944375</td>\n",
       "      <td>1</td>\n",
       "      <td>1429536379</td>\n",
       "      <td>5692.0</td>\n",
       "      <td>0</td>\n",
       "      <td>...</td>\n",
       "      <td>0</td>\n",
       "      <td>0</td>\n",
       "      <td>0</td>\n",
       "      <td>1</td>\n",
       "      <td>0</td>\n",
       "      <td>1</td>\n",
       "      <td>1</td>\n",
       "      <td>0</td>\n",
       "      <td>1</td>\n",
       "      <td>0</td>\n",
       "    </tr>\n",
       "    <tr>\n",
       "      <th>192663</th>\n",
       "      <td>44</td>\n",
       "      <td>1293</td>\n",
       "      <td>1263225900</td>\n",
       "      <td>1266814740</td>\n",
       "      <td>1000.0</td>\n",
       "      <td>1264099593</td>\n",
       "      <td>1</td>\n",
       "      <td>1266814815</td>\n",
       "      <td>1293.0</td>\n",
       "      <td>0</td>\n",
       "      <td>...</td>\n",
       "      <td>0</td>\n",
       "      <td>0</td>\n",
       "      <td>0</td>\n",
       "      <td>1</td>\n",
       "      <td>0</td>\n",
       "      <td>1</td>\n",
       "      <td>0</td>\n",
       "      <td>1</td>\n",
       "      <td>1</td>\n",
       "      <td>0</td>\n",
       "    </tr>\n",
       "  </tbody>\n",
       "</table>\n",
       "<p>192664 rows × 51 columns</p>\n",
       "</div>"
      ],
      "text/plain": [
       "        backers_count  converted_pledged_amount  created_at    deadline  \\\n",
       "0                  47                      1950  1501684093  1504976459   \n",
       "1                 271                     22404  1348987533  1371013395   \n",
       "2                   3                       165  1483780271  1489425776   \n",
       "3                   3                      2820  1354817071  1357763527   \n",
       "4                  35                      3725  1414172150  1430533546   \n",
       "...               ...                       ...         ...         ...   \n",
       "192659            341                      8924  1543286891  1544589900   \n",
       "192660             72                      5710  1493041572  1497909600   \n",
       "192661             62                      2681  1341343795  1347854340   \n",
       "192662             76                      5692  1425256957  1429536375   \n",
       "192663             44                      1293  1263225900  1266814740   \n",
       "\n",
       "           goal  launched_at  state  state_changed_at  usd_pledged  \\\n",
       "0        1000.0   1502384459      1        1504976459       1950.0   \n",
       "1       15000.0   1368421395      1        1371013395      22404.0   \n",
       "2       10000.0   1484245376      0        1489425776        165.0   \n",
       "3        2800.0   1355171527      1        1357763527       2820.0   \n",
       "4        3500.0   1427941546      1        1430533546       3725.0   \n",
       "...         ...          ...    ...               ...          ...   \n",
       "192659   1500.0   1543358312      1        1544589901       8924.0   \n",
       "192660   5000.0   1494782514      1        1497909600       5576.0   \n",
       "192661   2500.0   1344976590      1        1347854341       2681.0   \n",
       "192662   5500.0   1426944375      1        1429536379       5692.0   \n",
       "192663   1000.0   1264099593      1        1266814815       1293.0   \n",
       "\n",
       "        country_AT  ...  currency_NZD  currency_SEK  currency_SGD  \\\n",
       "0                0  ...             0             0             0   \n",
       "1                0  ...             0             0             0   \n",
       "2                0  ...             0             0             0   \n",
       "3                0  ...             0             0             0   \n",
       "4                0  ...             0             0             0   \n",
       "...            ...  ...           ...           ...           ...   \n",
       "192659           0  ...             0             0             0   \n",
       "192660           0  ...             0             0             0   \n",
       "192661           0  ...             0             0             0   \n",
       "192662           0  ...             0             0             0   \n",
       "192663           0  ...             0             0             0   \n",
       "\n",
       "        currency_USD  current_currency_CAD  current_currency_USD  \\\n",
       "0                  1                     0                     1   \n",
       "1                  1                     0                     1   \n",
       "2                  0                     0                     1   \n",
       "3                  1                     0                     1   \n",
       "4                  1                     0                     1   \n",
       "...              ...                   ...                   ...   \n",
       "192659             1                     0                     1   \n",
       "192660             0                     0                     1   \n",
       "192661             1                     0                     1   \n",
       "192662             1                     0                     1   \n",
       "192663             1                     0                     1   \n",
       "\n",
       "        staff_pick_False  staff_pick_True  usd_type_domestic  \\\n",
       "0                      1                0                  1   \n",
       "1                      1                0                  0   \n",
       "2                      1                0                  1   \n",
       "3                      1                0                  1   \n",
       "4                      1                0                  1   \n",
       "...                  ...              ...                ...   \n",
       "192659                 1                0                  0   \n",
       "192660                 1                0                  1   \n",
       "192661                 1                0                  0   \n",
       "192662                 1                0                  1   \n",
       "192663                 0                1                  1   \n",
       "\n",
       "        usd_type_international  \n",
       "0                            0  \n",
       "1                            1  \n",
       "2                            0  \n",
       "3                            0  \n",
       "4                            0  \n",
       "...                        ...  \n",
       "192659                       1  \n",
       "192660                       0  \n",
       "192661                       1  \n",
       "192662                       0  \n",
       "192663                       0  \n",
       "\n",
       "[192664 rows x 51 columns]"
      ]
     },
     "execution_count": 22,
     "metadata": {},
     "output_type": "execute_result"
    }
   ],
   "source": [
    "# df_2 is the clean data with essential preproccessing steps done on it!\n",
    "df_2"
   ]
  },
  {
   "cell_type": "code",
   "execution_count": 23,
   "metadata": {},
   "outputs": [
    {
     "data": {
      "text/plain": [
       "<AxesSubplot:xlabel='state', ylabel='goal'>"
      ]
     },
     "execution_count": 23,
     "metadata": {},
     "output_type": "execute_result"
    },
    {
     "data": {
      "image/png": "[encoded data removed]",
      "text/plain": [
       "<Figure size 640x480 with 1 Axes>"
      ]
     },
     "metadata": {},
     "output_type": "display_data"
    }
   ],
   "source": [
    "pd.set_option('display.max_columns', None)\n",
    "\n",
    "#df_2.corr()\n",
    "\n",
    "sns.barplot(data=df_2, x=\"state\", y=\"goal\")"
   ]
  },
  {
   "cell_type": "code",
   "execution_count": 24,
   "metadata": {},
   "outputs": [
    {
     "data": {
      "text/plain": [
       "<AxesSubplot:xlabel='state', ylabel='goal'>"
      ]
     },
     "execution_count": 24,
     "metadata": {},
     "output_type": "execute_result"
    },
    {
     "data": {
      "image/png": "[encoded data removed]",
      "text/plain": [
       "<Figure size 640x480 with 1 Axes>"
      ]
     },
     "metadata": {},
     "output_type": "display_data"
    }
   ],
   "source": [
    "sns.scatterplot(data=df_2, x=\"state\", y=\"goal\")"
   ]
  },
  {
   "cell_type": "code",
   "execution_count": 25,
   "metadata": {},
   "outputs": [
    {
     "data": {
      "text/plain": [
       "1    117465\n",
       "0     75199\n",
       "Name: state, dtype: int64"
      ]
     },
     "execution_count": 25,
     "metadata": {},
     "output_type": "execute_result"
    }
   ],
   "source": [
    "df_2['state'].value_counts()"
   ]
  },
  {
   "cell_type": "markdown",
   "metadata": {},
   "source": [
    "## Splitting the data"
   ]
  },
  {
   "cell_type": "markdown",
   "metadata": {},
   "source": [
    "For our models we need to split our data frame into test and train data set. Out of this we can do our baseline and big model.\n",
    "At first we have to define our target and our features for the models."
   ]
  },
  {
   "cell_type": "code",
   "execution_count": 26,
   "metadata": {},
   "outputs": [
    {
     "name": "stdout",
     "output_type": "stream",
     "text": [
      "Our features are: ['backers_count', 'converted_pledged_amount', 'created_at', 'deadline', 'goal', 'launched_at', 'state_changed_at', 'usd_pledged', 'country_AT', 'country_AU', 'country_BE', 'country_CA', 'country_CH', 'country_DE', 'country_DK', 'country_ES', 'country_FR', 'country_GB', 'country_HK', 'country_IE', 'country_IT', 'country_JP', 'country_LU', 'country_MX', 'country_NL', 'country_NO', 'country_NZ', 'country_SE', 'country_SG', 'country_US', 'currency_AUD', 'currency_CAD', 'currency_CHF', 'currency_DKK', 'currency_EUR', 'currency_GBP', 'currency_HKD', 'currency_JPY', 'currency_MXN', 'currency_NOK', 'currency_NZD', 'currency_SEK', 'currency_SGD', 'currency_USD', 'current_currency_CAD', 'current_currency_USD', 'staff_pick_False', 'staff_pick_True', 'usd_type_domestic', 'usd_type_international']\n",
      "Our target is: state\n"
     ]
    }
   ],
   "source": [
    "X = df_2.drop('state', axis= 1)\n",
    "y = df_2['state']\n",
    "\n",
    "print('Our features are:', list(X.columns))\n",
    "print('Our target is: state')"
   ]
  },
  {
   "cell_type": "code",
   "execution_count": 27,
   "metadata": {},
   "outputs": [
    {
     "name": "stdout",
     "output_type": "stream",
     "text": [
      "Rows and columns of X_train (129084, 50)\n",
      "Rows and columns of y_train (129084,)\n",
      "Rows and columns of X_test (63580, 50)\n",
      "Rows and columns of y_test (63580,)\n"
     ]
    }
   ],
   "source": [
    "X_train, X_test, y_train, y_test = train_test_split( X, y, test_size=0.33, stratify = y, random_state=RSEED)\n",
    "'''We stratify the test split because we have an imbalance in the state column of the dataset'''\n",
    "\n",
    "print('Rows and columns of X_train', X_train.shape)\n",
    "print('Rows and columns of y_train', y_train.shape)\n",
    "print('Rows and columns of X_test', X_test.shape)\n",
    "print('Rows and columns of y_test', y_test.shape)"
   ]
  },
  {
   "cell_type": "markdown",
   "metadata": {},
   "source": [
    "## Base model and Base model evaluation"
   ]
  },
  {
   "cell_type": "markdown",
   "metadata": {},
   "source": [
    "Our hypothesis is: \n",
    "\n",
    "    If the goal is lower than 20000 the project is more likely to succeed"
   ]
  },
  {
   "cell_type": "code",
   "execution_count": 28,
   "metadata": {},
   "outputs": [
    {
     "data": {
      "text/plain": [
       "array([1, 1, 1, ..., 1, 0, 0])"
      ]
     },
     "execution_count": 28,
     "metadata": {},
     "output_type": "execute_result"
    }
   ],
   "source": [
    "#to evaluate our baseline model we need a y_baseline. We decided that we have a successful project below 20000 so i will be 1.\n",
    "# over 20000 i will be 0 for no success. So we can compare y_baseline with y_test to evaluate the model.\n",
    "y_baseline = [1 if i <= 20000 else 0 for i in X_test['goal']]\n",
    "y_baseline = np.array(y_baseline)\n",
    "y_baseline"
   ]
  },
  {
   "cell_type": "code",
   "execution_count": 29,
   "metadata": {},
   "outputs": [
    {
     "name": "stdout",
     "output_type": "stream",
     "text": [
      "---------------------------------------------\n",
      "Classification report\n",
      "---------------------------------------------\n",
      "              precision    recall  f1-score   support\n",
      "\n",
      "           0       0.62      0.27      0.37     24816\n",
      "           1       0.66      0.89      0.76     38764\n",
      "\n",
      "    accuracy                           0.65     63580\n",
      "   macro avg       0.64      0.58      0.57     63580\n",
      "weighted avg       0.64      0.65      0.61     63580\n",
      "\n",
      "---------------------------------------------\n",
      "Confusion matrix\n",
      "---------------------------------------------\n",
      "[[ 6677 18139]\n",
      " [ 4139 34625]]\n"
     ]
    }
   ],
   "source": [
    "print('---------------------------------------------')\n",
    "print('Classification report')\n",
    "print('---------------------------------------------')\n",
    "\n",
    "#built classification report\n",
    "clr = classification_report(y_test,y_baseline)\n",
    "\n",
    "print(clr)\n",
    "print('---------------------------------------------')\n",
    "print('Confusion matrix')\n",
    "print('---------------------------------------------')\n",
    "\n",
    "# building confusion matrix\n",
    "cfm = confusion_matrix(y_test,y_baseline)\n",
    "\n",
    "print(cfm)\n"
   ]
  },
  {
   "cell_type": "code",
   "execution_count": 30,
   "metadata": {},
   "outputs": [
    {
     "data": {
      "image/png": "[encoded data removed]",
      "text/plain": [
       "<Figure size 640x480 with 2 Axes>"
      ]
     },
     "metadata": {},
     "output_type": "display_data"
    }
   ],
   "source": [
    "group_names = ['True Neg','False Pos','False Neg','True Pos']\n",
    "group_counts = ['{0:0.0f}'.format(value) for value in\n",
    "                cfm.flatten()]\n",
    "group_percentages = ['{0:.2%}'.format(value) for value in\n",
    "                     cfm.flatten()/np.sum(cfm)]\n",
    "labels = [f'{v1}\\n{v2}\\n{v3}' for v1, v2, v3 in\n",
    "          zip(group_names,group_counts,group_percentages)]\n",
    "labels = np.asarray(labels).reshape(2,2)\n",
    "\n",
    "sns.heatmap(cfm, annot=labels, fmt='', cmap='Blues',linewidths = 1)\n",
    "plt.xlabel('Predicted values',fontsize=12)\n",
    "plt.ylabel('Actual values',fontsize=12)\n",
    "plt.title('-Kickstarter Success-',fontsize=12)\n",
    "plt.show()"
   ]
  },
  {
   "cell_type": "markdown",
   "metadata": {},
   "source": [
    "## Creating different Models"
   ]
  },
  {
   "cell_type": "markdown",
   "metadata": {},
   "source": [
    "In this case we have a classification problem, where we want to predict whether a project/campaign on kickstarter will succeed or net.\n",
    "To classify them we will go for following models:\n",
    "\n",
    "1. Decision Tree\n",
    "2. XGBoost\n",
    "3. KNNeighbors \n",
    "4. Random Forest\n",
    "\n",
    "We will try them all and compare them at the end, to show which model performs best.\n",
    "\n",
    "\n"
   ]
  },
  {
   "cell_type": "code",
   "execution_count": 38,
   "metadata": {},
   "outputs": [],
   "source": [
    "#Import relevant classifiers\n",
    "from sklearn.tree import DecisionTreeClassifier\n",
    "from sklearn.neighbors import KNeighborsClassifier\n",
    "from sklearn.ensemble import RandomForestClassifier\n",
    "from sklearn.datasets import make_classification\n",
    "from sklearn.model_selection import cross_val_score\n",
    "import xgboost as xgb\n",
    "from xgboost import XGBClassifier"
   ]
  },
  {
   "cell_type": "markdown",
   "metadata": {},
   "source": [
    "## 1. Decision Tree"
   ]
  },
  {
   "cell_type": "code",
   "execution_count": 36,
   "metadata": {},
   "outputs": [
    {
     "data": {
      "text/plain": [
       "DecisionTreeClassifier(random_state=42)"
      ]
     },
     "execution_count": 36,
     "metadata": {},
     "output_type": "execute_result"
    }
   ],
   "source": [
    "clf = DecisionTreeClassifier(random_state=RSEED)\n",
    "clf.fit(X_train, y_train, sample_weight=None, check_input=True)"
   ]
  },
  {
   "cell_type": "code",
   "execution_count": 42,
   "metadata": {},
   "outputs": [
    {
     "data": {
      "text/plain": [
       "array([0, 1, 1, ..., 0, 0, 1])"
      ]
     },
     "execution_count": 42,
     "metadata": {},
     "output_type": "execute_result"
    }
   ],
   "source": [
    "#make prediction for classifier above\n",
    "\n",
    "y_pred_dt = clf.predict(X_test)\n",
    "y_pred_dt"
   ]
  },
  {
   "cell_type": "markdown",
   "metadata": {},
   "source": [
    "## XGboost Classifier"
   ]
  },
  {
   "cell_type": "code",
   "execution_count": 53,
   "metadata": {},
   "outputs": [],
   "source": [
    "boost = XGBClassifier(random_state=RSEED)\n",
    "model_boost= boost.fit(X_train,y_train)"
   ]
  },
  {
   "cell_type": "code",
   "execution_count": 43,
   "metadata": {},
   "outputs": [
    {
     "data": {
      "text/plain": [
       "array([0, 1, 1, ..., 0, 0, 1])"
      ]
     },
     "execution_count": 43,
     "metadata": {},
     "output_type": "execute_result"
    }
   ],
   "source": [
    "#make prediction for classifier above\n",
    "\n",
    "y_pred_boost = boost.predict(X_test)\n",
    "y_pred_boost"
   ]
  },
  {
   "cell_type": "markdown",
   "metadata": {},
   "source": [
    "## KNeighbors"
   ]
  },
  {
   "cell_type": "code",
   "execution_count": 37,
   "metadata": {},
   "outputs": [
    {
     "data": {
      "text/plain": [
       "KNeighborsClassifier(n_neighbors=3)"
      ]
     },
     "execution_count": 37,
     "metadata": {},
     "output_type": "execute_result"
    }
   ],
   "source": [
    "neigh = KNeighborsClassifier(n_neighbors=3,random_state=RSEED)\n",
    "neigh.fit(X_train, y_train)"
   ]
  },
  {
   "cell_type": "code",
   "execution_count": 44,
   "metadata": {},
   "outputs": [
    {
     "data": {
      "text/plain": [
       "array([1, 0, 1, ..., 0, 1, 1])"
      ]
     },
     "execution_count": 44,
     "metadata": {},
     "output_type": "execute_result"
    }
   ],
   "source": [
    "#make prediction for classifier above\n",
    "\n",
    "y_pred_neigh = neigh.predict(X_test)\n",
    "y_pred_neigh"
   ]
  },
  {
   "cell_type": "markdown",
   "metadata": {},
   "source": [
    "## Random Forest Classifier"
   ]
  },
  {
   "cell_type": "code",
   "execution_count": 39,
   "metadata": {},
   "outputs": [
    {
     "data": {
      "text/plain": [
       "RandomForestClassifier(random_state=42)"
      ]
     },
     "execution_count": 39,
     "metadata": {},
     "output_type": "execute_result"
    }
   ],
   "source": [
    "forest = RandomForestClassifier(random_state=RSEED)\n",
    "forest.fit(X_train,y_train)"
   ]
  },
  {
   "cell_type": "code",
   "execution_count": 45,
   "metadata": {},
   "outputs": [
    {
     "data": {
      "text/plain": [
       "array([0, 1, 1, ..., 0, 0, 1])"
      ]
     },
     "execution_count": 45,
     "metadata": {},
     "output_type": "execute_result"
    }
   ],
   "source": [
    "#make prediction for classifier above\n",
    "\n",
    "y_pred_forest = forest.predict(X_test)\n",
    "y_pred_forest"
   ]
  },
  {
   "cell_type": "markdown",
   "metadata": {},
   "source": [
    "## First evaluation of the models"
   ]
  },
  {
   "cell_type": "markdown",
   "metadata": {},
   "source": [
    "blabla"
   ]
  },
  {
   "cell_type": "code",
   "execution_count": 47,
   "metadata": {},
   "outputs": [
    {
     "name": "stdout",
     "output_type": "stream",
     "text": [
      "---------------------------------------------\n",
      "Classification report\n",
      "---------------------------------------------\n",
      "              precision    recall  f1-score   support\n",
      "\n",
      "           0       1.00      0.99      0.99     24816\n",
      "           1       1.00      1.00      1.00     38764\n",
      "\n",
      "    accuracy                           1.00     63580\n",
      "   macro avg       1.00      1.00      1.00     63580\n",
      "weighted avg       1.00      1.00      1.00     63580\n",
      "\n",
      "---------------------------------------------\n",
      "Confusion matrix\n",
      "---------------------------------------------\n",
      "[[24635   181]\n",
      " [  101 38663]]\n"
     ]
    },
    {
     "data": {
      "image/png": "[encoded data removed]",
      "text/plain": [
       "<Figure size 640x480 with 2 Axes>"
      ]
     },
     "metadata": {},
     "output_type": "display_data"
    }
   ],
   "source": [
    "#Evaluation of the Decision tree classifier\n",
    "print('---------------------------------------------')\n",
    "print('Classification report')\n",
    "print('---------------------------------------------')\n",
    "\n",
    "#built classification report\n",
    "clr = classification_report(y_test,y_pred_dt)\n",
    "\n",
    "print(clr)\n",
    "print('---------------------------------------------')\n",
    "print('Confusion matrix')\n",
    "print('---------------------------------------------')\n",
    "\n",
    "# building confusion matrix\n",
    "cfm = confusion_matrix(y_test,y_pred_dt)\n",
    "\n",
    "print(cfm)\n",
    "\n",
    "group_names = ['True Neg','False Pos','False Neg','True Pos']\n",
    "group_counts = ['{0:0.0f}'.format(value) for value in\n",
    "                cfm.flatten()]\n",
    "group_percentages = ['{0:.2%}'.format(value) for value in\n",
    "                     cfm.flatten()/np.sum(cfm)]\n",
    "labels = [f'{v1}\\n{v2}\\n{v3}' for v1, v2, v3 in\n",
    "          zip(group_names,group_counts,group_percentages)]\n",
    "labels = np.asarray(labels).reshape(2,2)\n",
    "\n",
    "sns.heatmap(cfm, annot=labels, fmt='', cmap='Blues',linewidths = 1)\n",
    "plt.xlabel('Predicted values',fontsize=12)\n",
    "plt.ylabel('Actual values',fontsize=12)\n",
    "plt.title('-Kickstarter Success-',fontsize=12)\n",
    "plt.show()"
   ]
  },
  {
   "cell_type": "code",
   "execution_count": 48,
   "metadata": {},
   "outputs": [
    {
     "name": "stdout",
     "output_type": "stream",
     "text": [
      "---------------------------------------------\n",
      "Classification report\n",
      "---------------------------------------------\n",
      "              precision    recall  f1-score   support\n",
      "\n",
      "           0       1.00      0.99      1.00     24816\n",
      "           1       1.00      1.00      1.00     38764\n",
      "\n",
      "    accuracy                           1.00     63580\n",
      "   macro avg       1.00      1.00      1.00     63580\n",
      "weighted avg       1.00      1.00      1.00     63580\n",
      "\n",
      "---------------------------------------------\n",
      "Confusion matrix\n",
      "---------------------------------------------\n",
      "[[24664   152]\n",
      " [    9 38755]]\n"
     ]
    },
    {
     "data": {
      "image/png": "[encoded data removed]",
      "text/plain": [
       "<Figure size 640x480 with 2 Axes>"
      ]
     },
     "metadata": {},
     "output_type": "display_data"
    }
   ],
   "source": [
    "#Evaluation of the XGboost classifier\n",
    "print('---------------------------------------------')\n",
    "print('Classification report')\n",
    "print('---------------------------------------------')\n",
    "\n",
    "#built classification report\n",
    "clr = classification_report(y_test,y_pred_boost)\n",
    "\n",
    "print(clr)\n",
    "print('---------------------------------------------')\n",
    "print('Confusion matrix')\n",
    "print('---------------------------------------------')\n",
    "\n",
    "# building confusion matrix\n",
    "cfm = confusion_matrix(y_test,y_pred_boost)\n",
    "\n",
    "print(cfm)\n",
    "\n",
    "group_names = ['True Neg','False Pos','False Neg','True Pos']\n",
    "group_counts = ['{0:0.0f}'.format(value) for value in\n",
    "                cfm.flatten()]\n",
    "group_percentages = ['{0:.2%}'.format(value) for value in\n",
    "                     cfm.flatten()/np.sum(cfm)]\n",
    "labels = [f'{v1}\\n{v2}\\n{v3}' for v1, v2, v3 in\n",
    "          zip(group_names,group_counts,group_percentages)]\n",
    "labels = np.asarray(labels).reshape(2,2)\n",
    "\n",
    "sns.heatmap(cfm, annot=labels, fmt='', cmap='Blues',linewidths = 1)\n",
    "plt.xlabel('Predicted values',fontsize=12)\n",
    "plt.ylabel('Actual values',fontsize=12)\n",
    "plt.title('-Kickstarter Success-',fontsize=12)\n",
    "plt.show()"
   ]
  },
  {
   "cell_type": "code",
   "execution_count": 49,
   "metadata": {},
   "outputs": [
    {
     "name": "stdout",
     "output_type": "stream",
     "text": [
      "---------------------------------------------\n",
      "Classification report\n",
      "---------------------------------------------\n",
      "              precision    recall  f1-score   support\n",
      "\n",
      "           0       0.55      0.49      0.52     24816\n",
      "           1       0.70      0.74      0.72     38764\n",
      "\n",
      "    accuracy                           0.65     63580\n",
      "   macro avg       0.63      0.62      0.62     63580\n",
      "weighted avg       0.64      0.65      0.64     63580\n",
      "\n",
      "---------------------------------------------\n",
      "Confusion matrix\n",
      "---------------------------------------------\n",
      "[[12259 12557]\n",
      " [ 9901 28863]]\n"
     ]
    },
    {
     "data": {
      "image/png": "[encoded data removed]",
      "text/plain": [
       "<Figure size 640x480 with 2 Axes>"
      ]
     },
     "metadata": {},
     "output_type": "display_data"
    }
   ],
   "source": [
    "#Evaluation of the KNeighbors classifier\n",
    "print('---------------------------------------------')\n",
    "print('Classification report')\n",
    "print('---------------------------------------------')\n",
    "\n",
    "#built classification report\n",
    "clr = classification_report(y_test,y_pred_neigh)\n",
    "\n",
    "print(clr)\n",
    "print('---------------------------------------------')\n",
    "print('Confusion matrix')\n",
    "print('---------------------------------------------')\n",
    "\n",
    "# building confusion matrix\n",
    "cfm = confusion_matrix(y_test,y_pred_neigh)\n",
    "\n",
    "print(cfm)\n",
    "\n",
    "group_names = ['True Neg','False Pos','False Neg','True Pos']\n",
    "group_counts = ['{0:0.0f}'.format(value) for value in\n",
    "                cfm.flatten()]\n",
    "group_percentages = ['{0:.2%}'.format(value) for value in\n",
    "                     cfm.flatten()/np.sum(cfm)]\n",
    "labels = [f'{v1}\\n{v2}\\n{v3}' for v1, v2, v3 in\n",
    "          zip(group_names,group_counts,group_percentages)]\n",
    "labels = np.asarray(labels).reshape(2,2)\n",
    "\n",
    "sns.heatmap(cfm, annot=labels, fmt='', cmap='Blues',linewidths = 1)\n",
    "plt.xlabel('Predicted values',fontsize=12)\n",
    "plt.ylabel('Actual values',fontsize=12)\n",
    "plt.title('-Kickstarter Success-',fontsize=12)\n",
    "plt.show()"
   ]
  },
  {
   "cell_type": "code",
   "execution_count": 50,
   "metadata": {},
   "outputs": [
    {
     "name": "stdout",
     "output_type": "stream",
     "text": [
      "---------------------------------------------\n",
      "Classification report\n",
      "---------------------------------------------\n",
      "              precision    recall  f1-score   support\n",
      "\n",
      "           0       1.00      0.98      0.99     24816\n",
      "           1       0.99      1.00      0.99     38764\n",
      "\n",
      "    accuracy                           0.99     63580\n",
      "   macro avg       0.99      0.99      0.99     63580\n",
      "weighted avg       0.99      0.99      0.99     63580\n",
      "\n",
      "---------------------------------------------\n",
      "Confusion matrix\n",
      "---------------------------------------------\n",
      "[[24309   507]\n",
      " [   74 38690]]\n"
     ]
    },
    {
     "data": {
      "image/png": "[encoded data removed]",
      "text/plain": [
       "<Figure size 640x480 with 2 Axes>"
      ]
     },
     "metadata": {},
     "output_type": "display_data"
    }
   ],
   "source": [
    "#Evaluation of the RandomForest classifier\n",
    "print('---------------------------------------------')\n",
    "print('Classification report')\n",
    "print('---------------------------------------------')\n",
    "\n",
    "#built classification report\n",
    "clr = classification_report(y_test,y_pred_forest)\n",
    "\n",
    "print(clr)\n",
    "print('---------------------------------------------')\n",
    "print('Confusion matrix')\n",
    "print('---------------------------------------------')\n",
    "\n",
    "# building confusion matrix\n",
    "cfm = confusion_matrix(y_test,y_pred_forest)\n",
    "\n",
    "print(cfm)\n",
    "\n",
    "group_names = ['True Neg','False Pos','False Neg','True Pos']\n",
    "group_counts = ['{0:0.0f}'.format(value) for value in\n",
    "                cfm.flatten()]\n",
    "group_percentages = ['{0:.2%}'.format(value) for value in\n",
    "                     cfm.flatten()/np.sum(cfm)]\n",
    "labels = [f'{v1}\\n{v2}\\n{v3}' for v1, v2, v3 in\n",
    "          zip(group_names,group_counts,group_percentages)]\n",
    "labels = np.asarray(labels).reshape(2,2)\n",
    "\n",
    "sns.heatmap(cfm, annot=labels, fmt='', cmap='Blues',linewidths = 1)\n",
    "plt.xlabel('Predicted values',fontsize=12)\n",
    "plt.ylabel('Actual values',fontsize=12)\n",
    "plt.title('-Kickstarter Success-',fontsize=12)\n",
    "plt.show()"
   ]
  },
  {
   "cell_type": "code",
   "execution_count": 54,
   "metadata": {},
   "outputs": [
    {
     "data": {
      "image/png": "[encoded data removed]",
      "text/plain": [
       "<Figure size 640x480 with 1 Axes>"
      ]
     },
     "metadata": {},
     "output_type": "display_data"
    }
   ],
   "source": [
    "#show the importance of features for xgboost classifier\n",
    "plot_importance(model_boost)\n",
    "pyplot.show()"
   ]
  }
 ],
 "metadata": {
  "kernelspec": {
   "display_name": "Python 3.9.8 ('.venv': venv)",
   "language": "python",
   "name": "python3"
  },
  "language_info": {
   "codemirror_mode": {
    "name": "ipython",
    "version": 3
   },
   "file_extension": ".py",
   "mimetype": "text/x-python",
   "name": "python",
   "nbconvert_exporter": "python",
   "pygments_lexer": "ipython3",
   "version": "3.9.8"
  },
  "orig_nbformat": 4,
  "vscode": {
   "interpreter": {
    "hash": "9377d95a5488953e8efb414c2c78d58e11150284608a7ecc405ab2e7e7057705"
   }
  }
 },
 "nbformat": 4,
 "nbformat_minor": 2
}
